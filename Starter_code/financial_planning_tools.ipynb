{
 "cells": [
  {
   "cell_type": "markdown",
   "metadata": {},
   "source": [
    "# Financial Planning with APIs and Simulations\n",
    "\n",
    "In this Challenge, you’ll create two financial analysis tools by using a single Jupyter notebook:\n",
    "\n",
    "Part 1: A financial planner for emergencies. The members will be able to use this tool to visualize their current savings. The members can then determine if they have enough reserves for an emergency fund.\n",
    "\n",
    "Part 2: A financial planner for retirement. This tool will forecast the performance of their retirement portfolio in 30 years. To do this, the tool will make an Alpaca API call via the Alpaca SDK to get historical price data for use in Monte Carlo simulations.\n",
    "\n",
    "You’ll use the information from the Monte Carlo simulation to answer questions about the portfolio in your Jupyter notebook.\n",
    "\n"
   ]
  },
  {
   "cell_type": "code",
   "execution_count": 1,
   "metadata": {},
   "outputs": [],
   "source": [
    "# Import the required libraries and dependencies\n",
    "import os\n",
    "import requests\n",
    "import json\n",
    "import pandas as pd\n",
    "from dotenv import load_dotenv\n",
    "import alpaca_trade_api as tradeapi\n",
    "from MCForecastTools import MCSimulation\n",
    "\n",
    "%matplotlib inline"
   ]
  },
  {
   "cell_type": "code",
   "execution_count": 2,
   "metadata": {},
   "outputs": [
    {
     "name": "stderr",
     "output_type": "stream",
     "text": [
      "Python-dotenv could not parse statement starting at line 2\n",
      "Python-dotenv could not parse statement starting at line 4\n",
      "Python-dotenv could not parse statement starting at line 5\n",
      "Python-dotenv could not parse statement starting at line 6\n",
      "Python-dotenv could not parse statement starting at line 7\n",
      "Python-dotenv could not parse statement starting at line 8\n",
      "Python-dotenv could not parse statement starting at line 9\n",
      "Python-dotenv could not parse statement starting at line 15\n",
      "Python-dotenv could not parse statement starting at line 16\n",
      "Python-dotenv could not parse statement starting at line 17\n",
      "Python-dotenv could not parse statement starting at line 18\n",
      "Python-dotenv could not parse statement starting at line 19\n",
      "Python-dotenv could not parse statement starting at line 20\n",
      "Python-dotenv could not parse statement starting at line 23\n",
      "Python-dotenv could not parse statement starting at line 24\n",
      "Python-dotenv could not parse statement starting at line 25\n",
      "Python-dotenv could not parse statement starting at line 26\n",
      "Python-dotenv could not parse statement starting at line 27\n",
      "Python-dotenv could not parse statement starting at line 29\n",
      "Python-dotenv could not parse statement starting at line 30\n",
      "Python-dotenv could not parse statement starting at line 31\n",
      "Python-dotenv could not parse statement starting at line 32\n",
      "Python-dotenv could not parse statement starting at line 34\n",
      "Python-dotenv could not parse statement starting at line 35\n",
      "Python-dotenv could not parse statement starting at line 36\n",
      "Python-dotenv could not parse statement starting at line 37\n",
      "Python-dotenv could not parse statement starting at line 38\n",
      "Python-dotenv could not parse statement starting at line 39\n",
      "Python-dotenv could not parse statement starting at line 42\n",
      "Python-dotenv could not parse statement starting at line 43\n"
     ]
    },
    {
     "data": {
      "text/plain": [
       "True"
      ]
     },
     "execution_count": 2,
     "metadata": {},
     "output_type": "execute_result"
    }
   ],
   "source": [
    "# Load the environment variables from the .env file\n",
    "#by calling the load_dotenv function\n",
    "\n",
    "# Load .env environment variables\n",
    "load_dotenv()\n",
    "\n"
   ]
  },
  {
   "cell_type": "code",
   "execution_count": 3,
   "metadata": {},
   "outputs": [
    {
     "name": "stdout",
     "output_type": "stream",
     "text": [
      "Requirement already satisfied: alpaca-trade-api in /Users/rabiatalib/opt/anaconda3/envs/dev/lib/python3.7/site-packages (1.4.0)\n",
      "Requirement already satisfied: numpy>=1.11.1 in /Users/rabiatalib/opt/anaconda3/envs/dev/lib/python3.7/site-packages (from alpaca-trade-api) (1.20.1)\n",
      "Requirement already satisfied: msgpack==1.0.2 in /Users/rabiatalib/opt/anaconda3/envs/dev/lib/python3.7/site-packages (from alpaca-trade-api) (1.0.2)\n",
      "Requirement already satisfied: websocket-client<2,>=0.56.0 in /Users/rabiatalib/opt/anaconda3/envs/dev/lib/python3.7/site-packages (from alpaca-trade-api) (1.2.1)\n",
      "Requirement already satisfied: aiohttp==3.7.4 in /Users/rabiatalib/opt/anaconda3/envs/dev/lib/python3.7/site-packages (from alpaca-trade-api) (3.7.4)\n",
      "Requirement already satisfied: websockets<10,>=8.0 in /Users/rabiatalib/opt/anaconda3/envs/dev/lib/python3.7/site-packages (from alpaca-trade-api) (9.1)\n",
      "Requirement already satisfied: pandas>=0.18.1 in /Users/rabiatalib/opt/anaconda3/envs/dev/lib/python3.7/site-packages (from alpaca-trade-api) (1.2.4)\n",
      "Requirement already satisfied: urllib3<2,>1.24 in /Users/rabiatalib/opt/anaconda3/envs/dev/lib/python3.7/site-packages (from alpaca-trade-api) (1.26.4)\n",
      "Requirement already satisfied: requests<3,>2 in /Users/rabiatalib/opt/anaconda3/envs/dev/lib/python3.7/site-packages (from alpaca-trade-api) (2.25.1)\n",
      "Requirement already satisfied: PyYAML==5.4.1 in /Users/rabiatalib/opt/anaconda3/envs/dev/lib/python3.7/site-packages (from alpaca-trade-api) (5.4.1)\n",
      "Requirement already satisfied: chardet<4.0,>=2.0 in /Users/rabiatalib/opt/anaconda3/envs/dev/lib/python3.7/site-packages (from aiohttp==3.7.4->alpaca-trade-api) (3.0.4)\n",
      "Requirement already satisfied: typing-extensions>=3.6.5 in /Users/rabiatalib/opt/anaconda3/envs/dev/lib/python3.7/site-packages (from aiohttp==3.7.4->alpaca-trade-api) (3.7.4.3)\n",
      "Requirement already satisfied: async-timeout<4.0,>=3.0 in /Users/rabiatalib/opt/anaconda3/envs/dev/lib/python3.7/site-packages (from aiohttp==3.7.4->alpaca-trade-api) (3.0.1)\n",
      "Requirement already satisfied: multidict<7.0,>=4.5 in /Users/rabiatalib/opt/anaconda3/envs/dev/lib/python3.7/site-packages (from aiohttp==3.7.4->alpaca-trade-api) (5.2.0)\n",
      "Requirement already satisfied: yarl<2.0,>=1.0 in /Users/rabiatalib/opt/anaconda3/envs/dev/lib/python3.7/site-packages (from aiohttp==3.7.4->alpaca-trade-api) (1.7.0)\n",
      "Requirement already satisfied: attrs>=17.3.0 in /Users/rabiatalib/opt/anaconda3/envs/dev/lib/python3.7/site-packages (from aiohttp==3.7.4->alpaca-trade-api) (20.3.0)\n",
      "Requirement already satisfied: python-dateutil>=2.7.3 in /Users/rabiatalib/opt/anaconda3/envs/dev/lib/python3.7/site-packages (from pandas>=0.18.1->alpaca-trade-api) (2.8.1)\n",
      "Requirement already satisfied: pytz>=2017.3 in /Users/rabiatalib/opt/anaconda3/envs/dev/lib/python3.7/site-packages (from pandas>=0.18.1->alpaca-trade-api) (2021.1)\n",
      "Requirement already satisfied: six>=1.5 in /Users/rabiatalib/opt/anaconda3/envs/dev/lib/python3.7/site-packages (from python-dateutil>=2.7.3->pandas>=0.18.1->alpaca-trade-api) (1.15.0)\n",
      "Requirement already satisfied: certifi>=2017.4.17 in /Users/rabiatalib/opt/anaconda3/envs/dev/lib/python3.7/site-packages (from requests<3,>2->alpaca-trade-api) (2020.12.5)\n",
      "Requirement already satisfied: idna<3,>=2.5 in /Users/rabiatalib/opt/anaconda3/envs/dev/lib/python3.7/site-packages (from requests<3,>2->alpaca-trade-api) (2.10)\n",
      "Note: you may need to restart the kernel to use updated packages.\n"
     ]
    }
   ],
   "source": [
    "pip install alpaca-trade-api"
   ]
  },
  {
   "cell_type": "code",
   "execution_count": 7,
   "metadata": {},
   "outputs": [
    {
     "name": "stdout",
     "output_type": "stream",
     "text": [
      "Requirement already satisfied: python-dotenv in /Users/rabiatalib/opt/anaconda3/envs/dev/lib/python3.7/site-packages (0.19.1)\n",
      "Note: you may need to restart the kernel to use updated packages.\n"
     ]
    }
   ],
   "source": [
    "pip install python-dotenv"
   ]
  },
  {
   "cell_type": "markdown",
   "metadata": {},
   "source": [
    "## Part 1: Create a Financial Planner for Emergencies"
   ]
  },
  {
   "cell_type": "markdown",
   "metadata": {},
   "source": [
    "### Evaluate the Cryptocurrency Wallet by Using the Requests Library\n",
    "\n",
    "In this section, you’ll determine the current value of a member’s cryptocurrency wallet. You’ll collect the current prices for the Bitcoin and Ethereum cryptocurrencies by using the Python Requests library. For the prototype, you’ll assume that the member holds the 1.2 Bitcoins (BTC) and 5.3 Ethereum coins (ETH). To do all this, complete the following steps:\n",
    "\n",
    "1. Create a variable named `monthly_income`, and set its value to `12000`.\n",
    "\n",
    "2. Use the Requests library to get the current price (in US dollars) of Bitcoin (BTC) and Ethereum (ETH) by using the API endpoints that the starter code supplies.\n",
    "\n",
    "3. Navigate the JSON response object to access the current price of each coin, and store each in a variable.\n",
    "\n",
    "    > **Hint** Note the specific identifier for each cryptocurrency in the API JSON response. The Bitcoin identifier is `1`, and the Ethereum identifier is `1027`.\n",
    "\n",
    "4. Calculate the value, in US dollars, of the current amount of each cryptocurrency and of the entire cryptocurrency wallet.\n",
    "\n"
   ]
  },
  {
   "cell_type": "code",
   "execution_count": 8,
   "metadata": {},
   "outputs": [],
   "source": [
    "# The current number of coins for each cryptocurrency asset held in the portfolio.\n",
    "btc_coins = 1.2\n",
    "eth_coins = 5.3"
   ]
  },
  {
   "cell_type": "markdown",
   "metadata": {},
   "source": [
    "#### Step 1: Create a variable named `monthly_income`, and set its value to `12000`."
   ]
  },
  {
   "cell_type": "code",
   "execution_count": 9,
   "metadata": {},
   "outputs": [],
   "source": [
    "# The monthly amount for the member's household income\n",
    "monthly_income = 12000\n"
   ]
  },
  {
   "cell_type": "markdown",
   "metadata": {},
   "source": [
    "#### Review the endpoint URLs for the API calls to Free Crypto API in order to get the current pricing information for both BTC and ETH."
   ]
  },
  {
   "cell_type": "code",
   "execution_count": 10,
   "metadata": {},
   "outputs": [],
   "source": [
    "# The Free Crypto API Call endpoint URLs for the held cryptocurrency assets\n",
    "btc_url = \"https://api.alternative.me/v2/ticker/Bitcoin/?convert=USD\"\n",
    "eth_url = \"https://api.alternative.me/v2/ticker/Ethereum/?convert=USD\""
   ]
  },
  {
   "cell_type": "markdown",
   "metadata": {},
   "source": [
    "#### Step 2. Use the Requests library to get the current price (in US dollars) of Bitcoin (BTC) and Ethereum (ETH) by using the API endpoints that the starter code supplied."
   ]
  },
  {
   "cell_type": "code",
   "execution_count": 11,
   "metadata": {},
   "outputs": [
    {
     "name": "stdout",
     "output_type": "stream",
     "text": [
      "{\n",
      "    \"data\": {\n",
      "        \"1\": {\n",
      "            \"circulating_supply\": 18856343,\n",
      "            \"id\": 1,\n",
      "            \"last_updated\": 1635382797,\n",
      "            \"max_supply\": 21000000,\n",
      "            \"name\": \"Bitcoin\",\n",
      "            \"quotes\": {\n",
      "                \"USD\": {\n",
      "                    \"market_cap\": 1105754837661,\n",
      "                    \"percent_change_1h\": -0.157626271320932,\n",
      "                    \"percent_change_24h\": -4.13983231899533,\n",
      "                    \"percent_change_7d\": -11.6793719697542,\n",
      "                    \"percentage_change_1h\": -0.157626271320932,\n",
      "                    \"percentage_change_24h\": -4.13983231899533,\n",
      "                    \"percentage_change_7d\": -11.6793719697542,\n",
      "                    \"price\": 58501.0,\n",
      "                    \"volume_24h\": 44090188703\n",
      "                }\n",
      "            },\n",
      "            \"rank\": 1,\n",
      "            \"symbol\": \"BTC\",\n",
      "            \"total_supply\": 18856343,\n",
      "            \"website_slug\": \"bitcoin\"\n",
      "        }\n",
      "    },\n",
      "    \"metadata\": {\n",
      "        \"error\": null,\n",
      "        \"num_cryptocurrencies\": 3105,\n",
      "        \"timestamp\": 1635382797\n",
      "    }\n",
      "}\n"
     ]
    }
   ],
   "source": [
    "# Using the Python requests library, make an API call to access the current price of BTC\n",
    "btc_response = \"https://api.alternative.me/v2/ticker/Bitcoin/?convert=USD\"\n",
    "\n",
    "# Use the json.dumps function to review the response data from the API call\n",
    "# Use the indent and sort_keys parameters to make the response object readable\n",
    "btc_response = requests.get(btc_url).json()\n",
    "print(json.dumps(btc_response, indent=4, sort_keys=True))"
   ]
  },
  {
   "cell_type": "code",
   "execution_count": 12,
   "metadata": {},
   "outputs": [
    {
     "name": "stdout",
     "output_type": "stream",
     "text": [
      "{\n",
      "    \"data\": {\n",
      "        \"1027\": {\n",
      "            \"circulating_supply\": 118103951,\n",
      "            \"id\": 1027,\n",
      "            \"last_updated\": 1635382746,\n",
      "            \"max_supply\": 0,\n",
      "            \"name\": \"Ethereum\",\n",
      "            \"quotes\": {\n",
      "                \"USD\": {\n",
      "                    \"market_cap\": 465812712643,\n",
      "                    \"percent_change_1h\": -0.156644309309494,\n",
      "                    \"percent_change_24h\": -5.70704997999629,\n",
      "                    \"percent_change_7d\": -5.56808765458523,\n",
      "                    \"percentage_change_1h\": -0.156644309309494,\n",
      "                    \"percentage_change_24h\": -5.70704997999629,\n",
      "                    \"percentage_change_7d\": -5.56808765458523,\n",
      "                    \"price\": 3937.91,\n",
      "                    \"volume_24h\": 28984270126\n",
      "                }\n",
      "            },\n",
      "            \"rank\": 2,\n",
      "            \"symbol\": \"ETH\",\n",
      "            \"total_supply\": 118103951,\n",
      "            \"website_slug\": \"ethereum\"\n",
      "        }\n",
      "    },\n",
      "    \"metadata\": {\n",
      "        \"error\": null,\n",
      "        \"num_cryptocurrencies\": 3105,\n",
      "        \"timestamp\": 1635382746\n",
      "    }\n",
      "}\n"
     ]
    }
   ],
   "source": [
    "# Using the Python requests library, make an API call to access the current price ETH\n",
    "eth_response = \"https://api.alternative.me/v2/ticker/Ethereum/?convert=USD\"\n",
    "\n",
    "# Use the json.dumps function to review the response data from the API call\n",
    "# Use the indent and sort_keys parameters to make the response object readable\n",
    "eth_response = requests.get(eth_url).json()\n",
    "print(json.dumps(eth_response, indent=4, sort_keys=True))\n"
   ]
  },
  {
   "cell_type": "markdown",
   "metadata": {},
   "source": [
    "#### Step 3: Navigate the JSON response object to access the current price of each coin, and store each in a variable."
   ]
  },
  {
   "cell_type": "code",
   "execution_count": 13,
   "metadata": {},
   "outputs": [
    {
     "data": {
      "text/plain": [
       "58501.0"
      ]
     },
     "execution_count": 13,
     "metadata": {},
     "output_type": "execute_result"
    }
   ],
   "source": [
    "# Navigate the BTC response object to access the current price of BTC\n",
    "btc_price = btc_response['data']['1']['quotes']['USD']['price']\n",
    "\n",
    "# Print the current price of BTC\n",
    "\n",
    "#print(f\"The price for BTC is ${btc_price}\")\n",
    "btc_price"
   ]
  },
  {
   "cell_type": "code",
   "execution_count": 14,
   "metadata": {},
   "outputs": [
    {
     "data": {
      "text/plain": [
       "3937.91"
      ]
     },
     "execution_count": 14,
     "metadata": {},
     "output_type": "execute_result"
    }
   ],
   "source": [
    "# Navigate the BTC response object to access the current price of ETH\n",
    "eth_price = eth_response['data']['1027']['quotes']['USD']['price']\n",
    "\n",
    "# Print the current price of ETH\n",
    "#print(f\"The price for ETH is ${eth_price}\")\n",
    "eth_price"
   ]
  },
  {
   "cell_type": "markdown",
   "metadata": {},
   "source": [
    "### Step 4: Calculate the value, in US dollars, of the current amount of each cryptocurrency and of the entire cryptocurrency wallet."
   ]
  },
  {
   "cell_type": "code",
   "execution_count": 15,
   "metadata": {},
   "outputs": [
    {
     "name": "stdout",
     "output_type": "stream",
     "text": [
      "The value for BTC is 58501.0\n"
     ]
    }
   ],
   "source": [
    "# Compute the current value of the BTC holding \n",
    "btc_value = btc_response['data']['1']['quotes']['USD']['price']\n",
    "\n",
    "# Print current value of your holding in BTC\n",
    "print(f\"The value for BTC is {btc_value}\")"
   ]
  },
  {
   "cell_type": "code",
   "execution_count": 16,
   "metadata": {},
   "outputs": [
    {
     "name": "stdout",
     "output_type": "stream",
     "text": [
      "The value for ETH is 3937.91\n"
     ]
    }
   ],
   "source": [
    "# Compute the current value of the ETH holding \n",
    "eth_value = eth_response['data']['1027']['quotes']['USD']['price']\n",
    "\n",
    "# Print current value of your holding in ETH\n",
    "\n",
    "print(f\"The value for ETH is {eth_value}\")"
   ]
  },
  {
   "cell_type": "code",
   "execution_count": 39,
   "metadata": {},
   "outputs": [
    {
     "name": "stdout",
     "output_type": "stream",
     "text": [
      "67509.93\n"
     ]
    }
   ],
   "source": [
    "# Compute the total value of the cryptocurrency wallet\n",
    "# Add the value of the BTC holding to the value of the ETH holding\n",
    "total_crypto_wallet = btc_value + eth_value\n",
    "\n",
    "# Print current cryptocurrency wallet balance\n",
    "print (total_crypto_wallet)\n"
   ]
  },
  {
   "cell_type": "markdown",
   "metadata": {},
   "source": [
    "### Evaluate the Stock and Bond Holdings by Using the Alpaca SDK\n",
    "\n",
    "In this section, you’ll determine the current value of a member’s stock and bond holdings. You’ll make an API call to Alpaca via the Alpaca SDK to get the current closing prices of the SPDR S&P 500 ETF Trust (ticker: SPY) and of the iShares Core US Aggregate Bond ETF (ticker: AGG). For the prototype, assume that the member holds 110 shares of SPY, which represents the stock portion of their portfolio, and 200 shares of AGG, which represents the bond portion. To do all this, complete the following steps:\n",
    "\n",
    "1. In the `Starter_Code` folder, create an environment file (`.env`) to store the values of your Alpaca API key and Alpaca secret key.\n",
    "\n",
    "2. Set the variables for the Alpaca API and secret keys. Using the Alpaca SDK, create the Alpaca `tradeapi.REST` object. In this object, include the parameters for the Alpaca API key, the secret key, and the version number.\n",
    "\n",
    "3. Set the following parameters for the Alpaca API call:\n",
    "\n",
    "    - `tickers`: Use the tickers for the member’s stock and bond holdings.\n",
    "\n",
    "    - `timeframe`: Use a time frame of one day.\n",
    "\n",
    "    - `start_date` and `end_date`: Use the same date for these parameters, and format them with the date of the previous weekday (or `2020-08-07`). This is because you want the one closing price for the most-recent trading day.\n",
    "\n",
    "4. Get the current closing prices for `SPY` and `AGG` by using the Alpaca `get_barset` function. Format the response as a Pandas DataFrame by including the `df` property at the end of the `get_barset` function.\n",
    "\n",
    "5. Navigating the Alpaca response DataFrame, select the `SPY` and `AGG` closing prices, and store them as variables.\n",
    "\n",
    "6. Calculate the value, in US dollars, of the current amount of shares in each of the stock and bond portions of the portfolio, and print the results.\n"
   ]
  },
  {
   "cell_type": "markdown",
   "metadata": {},
   "source": [
    "#### Review the total number of shares held in both (SPY) and (AGG)."
   ]
  },
  {
   "cell_type": "code",
   "execution_count": 17,
   "metadata": {},
   "outputs": [],
   "source": [
    "# Current amount of shares held in both the stock (SPY) and bond (AGG) portion of the portfolio.\n",
    "spy_shares = 110\n",
    "agg_shares = 200\n"
   ]
  },
  {
   "cell_type": "markdown",
   "metadata": {},
   "source": [
    "#### Step 1: In the `Starter_Code` folder, create an environment file (`.env`) to store the values of your Alpaca API key and Alpaca secret key."
   ]
  },
  {
   "cell_type": "markdown",
   "metadata": {},
   "source": [
    "#### Step 2: Set the variables for the Alpaca API and secret keys. Using the Alpaca SDK, create the Alpaca `tradeapi.REST` object. In this object, include the parameters for the Alpaca API key, the secret key, and the version number."
   ]
  },
  {
   "cell_type": "code",
   "execution_count": 18,
   "metadata": {},
   "outputs": [],
   "source": [
    "# Set the variables for the Alpaca API and secret keys\n",
    "alpaca_api_key = \"PKPRYKEQOZOUELCIGCGA\"\n",
    "alpaca_secret_key = \"jnsEQajTnNgnwhSE3TLGGweq9VdLNGaNPyvntfdc\"\n",
    "\n",
    "\n",
    "# Create the Alpaca tradeapi.REST object\n",
    "alpaca = tradeapi.REST(\n",
    "    alpaca_api_key,\n",
    "    alpaca_secret_key,\n",
    "    api_version=\"v2\")\n"
   ]
  },
  {
   "cell_type": "markdown",
   "metadata": {},
   "source": [
    "#### Step 3: Set the following parameters for the Alpaca API call:\n",
    "\n",
    "- `tickers`: Use the tickers for the member’s stock and bond holdings.\n",
    "\n",
    "- `timeframe`: Use a time frame of one day.\n",
    "\n",
    "- `start_date` and `end_date`: Use the same date for these parameters, and format them with the date of the previous weekday (or `2020-08-07`). This is because you want the one closing price for the most-recent trading day.\n"
   ]
  },
  {
   "cell_type": "code",
   "execution_count": 81,
   "metadata": {},
   "outputs": [],
   "source": [
    "# Set the tickers for both the bond and stock portion of the portfolio\n",
    "tickers = [\"SPY\", \"AGG\"]\n",
    "\n",
    "# Set timeframe to 1D \n",
    "timeframe = \"1D\"\n",
    "\n",
    "# Format current date as ISO format\n",
    "# Set both the start and end date at the date of your prior weekday \n",
    "# This will give you the closing price of the previous trading day\n",
    "# Alternatively you can use a start and end date of 2020-08-07\n",
    "start_date = pd.Timestamp(\"2020-08-07\", tz=\"America/New_York\").isoformat()\n",
    "end_date = pd.Timestamp(\"2020-08-07\", tz=\"America/New_York\").isoformat()\n"
   ]
  },
  {
   "cell_type": "markdown",
   "metadata": {},
   "source": [
    "#### Step 4: Get the current closing prices for `SPY` and `AGG` by using the Alpaca `get_barset` function. Format the response as a Pandas DataFrame by including the `df` property at the end of the `get_barset` function."
   ]
  },
  {
   "cell_type": "code",
   "execution_count": 82,
   "metadata": {},
   "outputs": [
    {
     "data": {
      "text/html": [
       "<div>\n",
       "<style scoped>\n",
       "    .dataframe tbody tr th:only-of-type {\n",
       "        vertical-align: middle;\n",
       "    }\n",
       "\n",
       "    .dataframe tbody tr th {\n",
       "        vertical-align: top;\n",
       "    }\n",
       "\n",
       "    .dataframe thead tr th {\n",
       "        text-align: left;\n",
       "    }\n",
       "\n",
       "    .dataframe thead tr:last-of-type th {\n",
       "        text-align: right;\n",
       "    }\n",
       "</style>\n",
       "<table border=\"1\" class=\"dataframe\">\n",
       "  <thead>\n",
       "    <tr>\n",
       "      <th></th>\n",
       "      <th colspan=\"5\" halign=\"left\">AGG</th>\n",
       "      <th colspan=\"5\" halign=\"left\">SPY</th>\n",
       "    </tr>\n",
       "    <tr>\n",
       "      <th></th>\n",
       "      <th>open</th>\n",
       "      <th>high</th>\n",
       "      <th>low</th>\n",
       "      <th>close</th>\n",
       "      <th>volume</th>\n",
       "      <th>open</th>\n",
       "      <th>high</th>\n",
       "      <th>low</th>\n",
       "      <th>close</th>\n",
       "      <th>volume</th>\n",
       "    </tr>\n",
       "    <tr>\n",
       "      <th>time</th>\n",
       "      <th></th>\n",
       "      <th></th>\n",
       "      <th></th>\n",
       "      <th></th>\n",
       "      <th></th>\n",
       "      <th></th>\n",
       "      <th></th>\n",
       "      <th></th>\n",
       "      <th></th>\n",
       "      <th></th>\n",
       "    </tr>\n",
       "  </thead>\n",
       "  <tbody>\n",
       "    <tr>\n",
       "      <th>2020-08-07 00:00:00-04:00</th>\n",
       "      <td>119.66</td>\n",
       "      <td>119.73</td>\n",
       "      <td>119.395</td>\n",
       "      <td>119.445</td>\n",
       "      <td>8830420</td>\n",
       "      <td>333.28</td>\n",
       "      <td>334.88</td>\n",
       "      <td>332.3</td>\n",
       "      <td>334.55</td>\n",
       "      <td>98710236</td>\n",
       "    </tr>\n",
       "  </tbody>\n",
       "</table>\n",
       "</div>"
      ],
      "text/plain": [
       "                              AGG                                        SPY  \\\n",
       "                             open    high      low    close   volume    open   \n",
       "time                                                                           \n",
       "2020-08-07 00:00:00-04:00  119.66  119.73  119.395  119.445  8830420  333.28   \n",
       "\n",
       "                                                            \n",
       "                             high    low   close    volume  \n",
       "time                                                        \n",
       "2020-08-07 00:00:00-04:00  334.88  332.3  334.55  98710236  "
      ]
     },
     "execution_count": 82,
     "metadata": {},
     "output_type": "execute_result"
    }
   ],
   "source": [
    "# Use the Alpaca get_barset function to get current closing prices the portfolio\n",
    "# Be sure to set the `df` property after the function to format the response object as a DataFrame\n",
    "agg_close_price= alpaca.get_barset(tickers,timeframe,start = start_date,end = end_date).df\n",
    "\n",
    "spy_close_price= alpaca.get_barset(tickers,timeframe,start = start_date,end = end_date).df\n",
    "\n",
    "# Review the first 5 rows of the Alpaca DataFrame\n",
    "agg_close_price.head(5)\n",
    "spy_close_price.head(5)"
   ]
  },
  {
   "cell_type": "markdown",
   "metadata": {},
   "source": [
    "#### Step 5: Navigating the Alpaca response DataFrame, select the `SPY` and `AGG` closing prices, and store them as variables."
   ]
  },
  {
   "cell_type": "code",
   "execution_count": 24,
   "metadata": {},
   "outputs": [
    {
     "name": "stdout",
     "output_type": "stream",
     "text": [
      "time\n",
      "2020-08-07 00:00:00-04:00    119.445\n",
      "Name: close, dtype: float64\n"
     ]
    }
   ],
   "source": [
    "# Access the closing price for AGG from the Alpaca DataFrame\n",
    "# Converting the value to a floating point number\n",
    "agg_close_price = agg_close_price[\"AGG\"][\"close\"]\n",
    "\n",
    "# Print the AGG closing price\n",
    "print (agg_close_price)\n"
   ]
  },
  {
   "cell_type": "code",
   "execution_count": 25,
   "metadata": {},
   "outputs": [
    {
     "name": "stdout",
     "output_type": "stream",
     "text": [
      "time\n",
      "2020-08-07 00:00:00-04:00    334.55\n",
      "Name: close, dtype: float64\n"
     ]
    }
   ],
   "source": [
    "# Access the closing price for SPY from the Alpaca DataFrame\n",
    "# Converting the value to a floating point number\n",
    "spy_close_price = spy_close_price[\"SPY\"][\"close\"]\n",
    "\n",
    "# Print the SPY closing price\n",
    "print (spy_close_price)\n"
   ]
  },
  {
   "cell_type": "markdown",
   "metadata": {},
   "source": [
    "#### Step 6: Calculate the value, in US dollars, of the current amount of shares in each of the stock and bond portions of the portfolio, and print the results."
   ]
  },
  {
   "cell_type": "code",
   "execution_count": 26,
   "metadata": {},
   "outputs": [
    {
     "name": "stdout",
     "output_type": "stream",
     "text": [
      "time\n",
      "2020-08-07 00:00:00-04:00    39960.32475\n",
      "Name: close, dtype: float64\n"
     ]
    }
   ],
   "source": [
    "# Calculate the current value of the bond portion of the portfolio\n",
    "agg_value = agg_close_price * spy_close_price\n",
    "\n",
    "# Print the current value of the bond portfolio\n",
    "\n",
    "print(agg_value)"
   ]
  },
  {
   "cell_type": "code",
   "execution_count": 27,
   "metadata": {},
   "outputs": [
    {
     "name": "stdout",
     "output_type": "stream",
     "text": [
      "time\n",
      "2020-08-07 00:00:00-04:00    39960.32475\n",
      "Name: close, dtype: float64\n"
     ]
    }
   ],
   "source": [
    "# Calculate the current value of the stock portion of the portfolio\n",
    "spy_value =  spy_close_price * agg_close_price\n",
    "\n",
    "# Print the current value of the stock portfolio\n",
    "print(spy_value)\n"
   ]
  },
  {
   "cell_type": "code",
   "execution_count": 74,
   "metadata": {},
   "outputs": [
    {
     "data": {
      "text/html": [
       "<div>\n",
       "<style scoped>\n",
       "    .dataframe tbody tr th:only-of-type {\n",
       "        vertical-align: middle;\n",
       "    }\n",
       "\n",
       "    .dataframe tbody tr th {\n",
       "        vertical-align: top;\n",
       "    }\n",
       "\n",
       "    .dataframe thead th {\n",
       "        text-align: right;\n",
       "    }\n",
       "</style>\n",
       "<table border=\"1\" class=\"dataframe\">\n",
       "  <thead>\n",
       "    <tr style=\"text-align: right;\">\n",
       "      <th></th>\n",
       "      <th>AGG</th>\n",
       "      <th>SPY</th>\n",
       "    </tr>\n",
       "  </thead>\n",
       "  <tbody>\n",
       "    <tr>\n",
       "      <th>0</th>\n",
       "      <td>39960.32475</td>\n",
       "      <td>39960.32475</td>\n",
       "    </tr>\n",
       "  </tbody>\n",
       "</table>\n",
       "</div>"
      ],
      "text/plain": [
       "           AGG          SPY\n",
       "0  39960.32475  39960.32475"
      ]
     },
     "execution_count": 74,
     "metadata": {},
     "output_type": "execute_result"
    }
   ],
   "source": [
    "# Calculate the total value of the stock and bond portion of the portfolio\n",
    "total_stocks_bonds = portfolio_value_df =  pd.DataFrame(\n",
    "    {\"AGG\": [agg_value[0]],\n",
    "    \"SPY\": [spy_value[0]]}\n",
    ")\n",
    "\n",
    "\n",
    "# Print the current balance of the stock and bond portion of the portfolio\n",
    "portfolio_value_df\n"
   ]
  },
  {
   "cell_type": "code",
   "execution_count": 75,
   "metadata": {},
   "outputs": [
    {
     "name": "stdout",
     "output_type": "stream",
     "text": [
      "           Value\n",
      "AGG  39960.32475\n",
      "SPY  39960.32475\n"
     ]
    }
   ],
   "source": [
    "# Calculate the total value of the member's entire savings portfolio\n",
    "# Add the value of the cryptocurrency walled to the value of the total stocks and bonds\n",
    "total_portfolio = pd.DataFrame(\n",
    "    {'Value':[agg_value[0], spy_value[0]]},\n",
    "    index=['AGG', 'SPY']\n",
    ")\n",
    "\n",
    "# Print current cryptocurrency wallet balance\n",
    "\n",
    "print (total_portfolio)"
   ]
  },
  {
   "cell_type": "markdown",
   "metadata": {},
   "source": [
    "### Evaluate the Emergency Fund\n",
    "\n",
    "In this section, you’ll use the valuations for the cryptocurrency wallet and for the stock and bond portions of the portfolio to determine if the credit union member has enough savings to build an emergency fund into their financial plan. To do this, complete the following steps:\n",
    "\n",
    "1. Create a Python list named `savings_data` that has two elements. The first element contains the total value of the cryptocurrency wallet. The second element contains the total value of the stock and bond portions of the portfolio.\n",
    "\n",
    "2. Use the `savings_data` list to create a Pandas DataFrame named `savings_df`, and then display this DataFrame. The function to create the DataFrame should take the following three parameters:\n",
    "\n",
    "    - `savings_data`: Use the list that you just created.\n",
    "\n",
    "    - `columns`: Set this parameter equal to a Python list with a single value called `amount`.\n",
    "\n",
    "    - `index`: Set this parameter equal to a Python list with the values of `crypto` and `stock/bond`.\n",
    "\n",
    "3. Use the `savings_df` DataFrame to plot a pie chart that visualizes the composition of the member’s portfolio. The y-axis of the pie chart uses `amount`. Be sure to add a title.\n",
    "\n",
    "4. Using Python, determine if the current portfolio has enough to create an emergency fund as part of the member’s financial plan. Ideally, an emergency fund should equal to three times the member’s monthly income. To do this, implement the following steps:\n",
    "\n",
    "    1. Create a variable named `emergency_fund_value`, and set it equal to three times the value of the member’s `monthly_income` of $12000. (You set this earlier in Part 1).\n",
    "\n",
    "    2. Create a series of three if statements to determine if the member’s total portfolio is large enough to fund the emergency portfolio:\n",
    "\n",
    "        1. If the total portfolio value is greater than the emergency fund value, display a message congratulating the member for having enough money in this fund.\n",
    "\n",
    "        2. Else if the total portfolio value is equal to the emergency fund value, display a message congratulating the member on reaching this important financial goal.\n",
    "\n",
    "        3. Else the total portfolio is less than the emergency fund value, so display a message showing how many dollars away the member is from reaching the goal. (Subtract the total portfolio value from the emergency fund value.)\n"
   ]
  },
  {
   "cell_type": "markdown",
   "metadata": {},
   "source": [
    "#### Step 1: Create a Python list named `savings_data` that has two elements. The first element contains the total value of the cryptocurrency wallet. The second element contains the total value of the stock and bond portions of the portfolio."
   ]
  },
  {
   "cell_type": "code",
   "execution_count": 51,
   "metadata": {},
   "outputs": [
    {
     "data": {
      "text/plain": [
       "[39960.32475, 39960.32475]"
      ]
     },
     "execution_count": 51,
     "metadata": {},
     "output_type": "execute_result"
    }
   ],
   "source": [
    "# Consolidate financial assets data into a Python list\n",
    "savings_data = [total_portfolio[\"Value\"][0][0],total_portfolio[\"Value\"][1][0]]\n",
    "\n",
    "# Review the Python list savings_data\n",
    "savings_data\n",
    "    "
   ]
  },
  {
   "cell_type": "markdown",
   "metadata": {},
   "source": [
    "#### Step 2: Use the `savings_data` list to create a Pandas DataFrame named `savings_df`, and then display this DataFrame. The function to create the DataFrame should take the following three parameters:\n",
    "\n",
    "- `savings_data`: Use the list that you just created.\n",
    "\n",
    "- `columns`: Set this parameter equal to a Python list with a single value called `amount`.\n",
    "\n",
    "- `index`: Set this parameter equal to a Python list with the values of `crypto` and `stock/bond`.\n"
   ]
  },
  {
   "cell_type": "code",
   "execution_count": 53,
   "metadata": {},
   "outputs": [
    {
     "data": {
      "text/html": [
       "<div>\n",
       "<style scoped>\n",
       "    .dataframe tbody tr th:only-of-type {\n",
       "        vertical-align: middle;\n",
       "    }\n",
       "\n",
       "    .dataframe tbody tr th {\n",
       "        vertical-align: top;\n",
       "    }\n",
       "\n",
       "    .dataframe thead th {\n",
       "        text-align: right;\n",
       "    }\n",
       "</style>\n",
       "<table border=\"1\" class=\"dataframe\">\n",
       "  <thead>\n",
       "    <tr style=\"text-align: right;\">\n",
       "      <th></th>\n",
       "      <th>columns</th>\n",
       "    </tr>\n",
       "  </thead>\n",
       "  <tbody>\n",
       "    <tr>\n",
       "      <th>AGG</th>\n",
       "      <td>39960.32475</td>\n",
       "    </tr>\n",
       "    <tr>\n",
       "      <th>SPY</th>\n",
       "      <td>39960.32475</td>\n",
       "    </tr>\n",
       "  </tbody>\n",
       "</table>\n",
       "</div>"
      ],
      "text/plain": [
       "         columns\n",
       "AGG  39960.32475\n",
       "SPY  39960.32475"
      ]
     },
     "metadata": {},
     "output_type": "display_data"
    }
   ],
   "source": [
    "# Create a Pandas DataFrame called savings_df \n",
    "savings_df = pd.DataFrame(\n",
    "    {'columns':savings_data},\n",
    "    index=['AGG', 'SPY']\n",
    ")\n",
    "\n",
    "# Display the savings_df DataFrame\n",
    "display (savings_df)\n"
   ]
  },
  {
   "cell_type": "markdown",
   "metadata": {},
   "source": [
    "#### Step 3: Use the `savings_df` DataFrame to plot a pie chart that visualizes the composition of the member’s portfolio. The y-axis of the pie chart uses `amount`. Be sure to add a title."
   ]
  },
  {
   "cell_type": "code",
   "execution_count": 55,
   "metadata": {},
   "outputs": [
    {
     "data": {
      "text/plain": [
       "<AxesSubplot:ylabel='columns'>"
      ]
     },
     "execution_count": 55,
     "metadata": {},
     "output_type": "execute_result"
    },
    {
     "data": {
      "image/png": "[encoded data removed]",
      "text/plain": [
       "<Figure size 432x288 with 1 Axes>"
      ]
     },
     "metadata": {},
     "output_type": "display_data"
    }
   ],
   "source": [
    "# Plot the total value of the member's portfolio (crypto and stock/bond) in a pie chart\n",
    "savings_df.plot.pie(y=\"columns\")\n"
   ]
  },
  {
   "cell_type": "markdown",
   "metadata": {},
   "source": [
    "#### Step 4: Using Python, determine if the current portfolio has enough to create an emergency fund as part of the member’s financial plan. Ideally, an emergency fund should equal to three times the member’s monthly income. To do this, implement the following steps:\n",
    "\n",
    "Step 1. Create a variable named `emergency_fund_value`, and set it equal to three times the value of the member’s `monthly_income` of 12000. (You set this earlier in Part 1).\n",
    "\n",
    "Step 2. Create a series of three if statements to determine if the member’s total portfolio is large enough to fund the emergency portfolio:\n",
    "\n",
    "* If the total portfolio value is greater than the emergency fund value, display a message congratulating the member for having enough money in this fund.\n",
    "\n",
    "* Else if the total portfolio value is equal to the emergency fund value, display a message congratulating the member on reaching this important financial goal.\n",
    "\n",
    "* Else the total portfolio is less than the emergency fund value, so display a message showing how many dollars away the member is from reaching the goal. (Subtract the total portfolio value from the emergency fund value.)\n"
   ]
  },
  {
   "cell_type": "markdown",
   "metadata": {},
   "source": [
    "##### Step 4-1: Create a variable named `emergency_fund_value`, and set it equal to three times the value of the member’s `monthly_income` of 12000. (You set this earlier in Part 1)."
   ]
  },
  {
   "cell_type": "code",
   "execution_count": 57,
   "metadata": {},
   "outputs": [],
   "source": [
    "# Create a variable named emergency_fund_value\n",
    "emergency_fund_value = 3*12000\n"
   ]
  },
  {
   "cell_type": "markdown",
   "metadata": {},
   "source": [
    "##### Step 4-2: Create a series of three if statements to determine if the member’s total portfolio is large enough to fund the emergency portfolio:\n",
    "\n",
    "* If the total portfolio value is greater than the emergency fund value, display a message congratulating the member for having enough money in this fund.\n",
    "\n",
    "* Else if the total portfolio value is equal to the emergency fund value, display a message congratulating the member on reaching this important financial goal.\n",
    "\n",
    "* Else the total portfolio is less than the emergency fund value, so display a message showing how many dollars away the member is from reaching the goal. (Subtract the total portfolio value from the emergency fund value.)"
   ]
  },
  {
   "cell_type": "code",
   "execution_count": 69,
   "metadata": {},
   "outputs": [
    {
     "name": "stdout",
     "output_type": "stream",
     "text": [
      "79920.6495\n",
      "Congratulations for having enough money in this fund!\n",
      "Congratulations on reaching important financial goal\n"
     ]
    }
   ],
   "source": [
    "# Evaluate the possibility of creating an emergency fund with 3 conditions:\n",
    "print (total_portfolio[\"Value\"].sum()[0])\n",
    "\n",
    "\n",
    "if total_portfolio[\"Value\"].sum()[0] > emergency_fund_value:\n",
    "    print(\"Congratulations for having enough money in this fund!\")\n",
    "    \n",
    "if total_portfolio[\"Value\"].sum()[0] >= emergency_fund_value:\n",
    "    print(\"Congratulations on reaching important financial goal\")\n",
    "    \n",
    "if total_portfolio[\"Value\"].sum()[0] < emergency_fund_value:\n",
    "    print(\"How many dollars away the member is from reaching the goal\")\n",
    "\n",
    "\n",
    "    "
   ]
  },
  {
   "cell_type": "markdown",
   "metadata": {},
   "source": [
    "## Part 2: Create a Financial Planner for Retirement"
   ]
  },
  {
   "cell_type": "markdown",
   "metadata": {},
   "source": [
    "### Create the Monte Carlo Simulation\n",
    "\n",
    "In this section, you’ll use the MCForecastTools library to create a Monte Carlo simulation for the member’s savings portfolio. To do this, complete the following steps:\n",
    "\n",
    "1. Make an API call via the Alpaca SDK to get 3 years of historical closing prices for a traditional 60/40 portfolio split: 60% stocks (SPY) and 40% bonds (AGG).\n",
    "\n",
    "2. Run a Monte Carlo simulation of 500 samples and 30 years for the 60/40 portfolio, and then plot the results.The following image shows the overlay line plot resulting from a simulation with these characteristics. However, because a random number generator is used to run each live Monte Carlo simulation, your image will differ slightly from this exact image:\n",
    "\n",
    "![A screenshot depicts the resulting plot.](Images/5-4-monte-carlo-line-plot.png)\n",
    "\n",
    "3. Plot the probability distribution of the Monte Carlo simulation. Plot the probability distribution of the Monte Carlo simulation. The following image shows the histogram plot resulting from a simulation with these characteristics. However, because a random number generator is used to run each live Monte Carlo simulation, your image will differ slightly from this exact image:\n",
    "\n",
    "![A screenshot depicts the histogram plot.](Images/5-4-monte-carlo-histogram.png)\n",
    "\n",
    "4. Generate the summary statistics for the Monte Carlo simulation.\n",
    "\n"
   ]
  },
  {
   "cell_type": "markdown",
   "metadata": {},
   "source": [
    "#### Step 1: Make an API call via the Alpaca SDK to get 3 years of historical closing prices for a traditional 60/40 portfolio split: 60% stocks (SPY) and 40% bonds (AGG)."
   ]
  },
  {
   "cell_type": "code",
   "execution_count": 84,
   "metadata": {},
   "outputs": [
    {
     "data": {
      "text/html": [
       "<div>\n",
       "<style scoped>\n",
       "    .dataframe tbody tr th:only-of-type {\n",
       "        vertical-align: middle;\n",
       "    }\n",
       "\n",
       "    .dataframe tbody tr th {\n",
       "        vertical-align: top;\n",
       "    }\n",
       "\n",
       "    .dataframe thead tr th {\n",
       "        text-align: left;\n",
       "    }\n",
       "\n",
       "    .dataframe thead tr:last-of-type th {\n",
       "        text-align: right;\n",
       "    }\n",
       "</style>\n",
       "<table border=\"1\" class=\"dataframe\">\n",
       "  <thead>\n",
       "    <tr>\n",
       "      <th></th>\n",
       "      <th colspan=\"6\" halign=\"left\">AGG</th>\n",
       "      <th colspan=\"6\" halign=\"left\">SPY</th>\n",
       "    </tr>\n",
       "    <tr>\n",
       "      <th></th>\n",
       "      <th>open</th>\n",
       "      <th>high</th>\n",
       "      <th>low</th>\n",
       "      <th>close</th>\n",
       "      <th>volume</th>\n",
       "      <th>daily_return</th>\n",
       "      <th>open</th>\n",
       "      <th>high</th>\n",
       "      <th>low</th>\n",
       "      <th>close</th>\n",
       "      <th>volume</th>\n",
       "      <th>daily_return</th>\n",
       "    </tr>\n",
       "    <tr>\n",
       "      <th>time</th>\n",
       "      <th></th>\n",
       "      <th></th>\n",
       "      <th></th>\n",
       "      <th></th>\n",
       "      <th></th>\n",
       "      <th></th>\n",
       "      <th></th>\n",
       "      <th></th>\n",
       "      <th></th>\n",
       "      <th></th>\n",
       "      <th></th>\n",
       "      <th></th>\n",
       "    </tr>\n",
       "  </thead>\n",
       "  <tbody>\n",
       "    <tr>\n",
       "      <th>2020-08-07 00:00:00-04:00</th>\n",
       "      <td>119.66</td>\n",
       "      <td>119.73</td>\n",
       "      <td>119.395</td>\n",
       "      <td>119.445</td>\n",
       "      <td>8830420</td>\n",
       "      <td>NaN</td>\n",
       "      <td>333.28</td>\n",
       "      <td>334.88</td>\n",
       "      <td>332.3</td>\n",
       "      <td>334.55</td>\n",
       "      <td>98710236</td>\n",
       "      <td>NaN</td>\n",
       "    </tr>\n",
       "  </tbody>\n",
       "</table>\n",
       "</div>"
      ],
      "text/plain": [
       "                              AGG                                     \\\n",
       "                             open    high      low    close   volume   \n",
       "time                                                                   \n",
       "2020-08-07 00:00:00-04:00  119.66  119.73  119.395  119.445  8830420   \n",
       "\n",
       "                                           SPY                         \\\n",
       "                          daily_return    open    high    low   close   \n",
       "time                                                                    \n",
       "2020-08-07 00:00:00-04:00          NaN  333.28  334.88  332.3  334.55   \n",
       "\n",
       "                                                  \n",
       "                             volume daily_return  \n",
       "time                                              \n",
       "2020-08-07 00:00:00-04:00  98710236          NaN  "
      ]
     },
     "execution_count": 84,
     "metadata": {},
     "output_type": "execute_result"
    }
   ],
   "source": [
    "# Set start and end dates of 3 years back from your current date\n",
    "# Alternatively, you can use an end date of 2020-08-07 and work 3 years back from that date\n",
    "\n",
    "MC_even_weight= MCSimulation(portfolio_data = agg_close_price,weights = [.60,.40],num_simulation = 1000,num_trading_days = 252*3)\n",
    "\n",
    "\n",
    "\n",
    "# Set number of rows to 1000 to retrieve the maximum amount of rows\n",
    "MC_even_weight.portfolio_data.head()"
   ]
  },
  {
   "cell_type": "code",
   "execution_count": 87,
   "metadata": {},
   "outputs": [
    {
     "data": {
      "text/html": [
       "<div>\n",
       "<style scoped>\n",
       "    .dataframe tbody tr th:only-of-type {\n",
       "        vertical-align: middle;\n",
       "    }\n",
       "\n",
       "    .dataframe tbody tr th {\n",
       "        vertical-align: top;\n",
       "    }\n",
       "\n",
       "    .dataframe thead tr th {\n",
       "        text-align: left;\n",
       "    }\n",
       "\n",
       "    .dataframe thead tr:last-of-type th {\n",
       "        text-align: right;\n",
       "    }\n",
       "</style>\n",
       "<table border=\"1\" class=\"dataframe\">\n",
       "  <thead>\n",
       "    <tr>\n",
       "      <th></th>\n",
       "      <th colspan=\"5\" halign=\"left\">AGG</th>\n",
       "      <th colspan=\"5\" halign=\"left\">SPY</th>\n",
       "    </tr>\n",
       "    <tr>\n",
       "      <th></th>\n",
       "      <th>open</th>\n",
       "      <th>high</th>\n",
       "      <th>low</th>\n",
       "      <th>close</th>\n",
       "      <th>volume</th>\n",
       "      <th>open</th>\n",
       "      <th>high</th>\n",
       "      <th>low</th>\n",
       "      <th>close</th>\n",
       "      <th>volume</th>\n",
       "    </tr>\n",
       "    <tr>\n",
       "      <th>time</th>\n",
       "      <th></th>\n",
       "      <th></th>\n",
       "      <th></th>\n",
       "      <th></th>\n",
       "      <th></th>\n",
       "      <th></th>\n",
       "      <th></th>\n",
       "      <th></th>\n",
       "      <th></th>\n",
       "      <th></th>\n",
       "    </tr>\n",
       "  </thead>\n",
       "  <tbody>\n",
       "    <tr>\n",
       "      <th>2021-10-21 00:00:00-04:00</th>\n",
       "      <td>114.01</td>\n",
       "      <td>114.0400</td>\n",
       "      <td>113.8423</td>\n",
       "      <td>113.85</td>\n",
       "      <td>4741154</td>\n",
       "      <td>451.76</td>\n",
       "      <td>453.829</td>\n",
       "      <td>451.31</td>\n",
       "      <td>453.61</td>\n",
       "      <td>33945007</td>\n",
       "    </tr>\n",
       "    <tr>\n",
       "      <th>2021-10-22 00:00:00-04:00</th>\n",
       "      <td>113.97</td>\n",
       "      <td>114.1399</td>\n",
       "      <td>113.8950</td>\n",
       "      <td>114.07</td>\n",
       "      <td>3309637</td>\n",
       "      <td>453.13</td>\n",
       "      <td>454.670</td>\n",
       "      <td>451.05</td>\n",
       "      <td>453.13</td>\n",
       "      <td>50771701</td>\n",
       "    </tr>\n",
       "    <tr>\n",
       "      <th>2021-10-25 00:00:00-04:00</th>\n",
       "      <td>114.06</td>\n",
       "      <td>114.2700</td>\n",
       "      <td>114.0600</td>\n",
       "      <td>114.17</td>\n",
       "      <td>7088133</td>\n",
       "      <td>454.28</td>\n",
       "      <td>455.900</td>\n",
       "      <td>452.39</td>\n",
       "      <td>455.48</td>\n",
       "      <td>37918548</td>\n",
       "    </tr>\n",
       "    <tr>\n",
       "      <th>2021-10-26 00:00:00-04:00</th>\n",
       "      <td>114.25</td>\n",
       "      <td>114.3800</td>\n",
       "      <td>114.1100</td>\n",
       "      <td>114.37</td>\n",
       "      <td>5284755</td>\n",
       "      <td>457.20</td>\n",
       "      <td>458.490</td>\n",
       "      <td>455.56</td>\n",
       "      <td>455.97</td>\n",
       "      <td>49865704</td>\n",
       "    </tr>\n",
       "    <tr>\n",
       "      <th>2021-10-27 00:00:00-04:00</th>\n",
       "      <td>114.66</td>\n",
       "      <td>114.9150</td>\n",
       "      <td>114.4250</td>\n",
       "      <td>114.77</td>\n",
       "      <td>6817074</td>\n",
       "      <td>456.45</td>\n",
       "      <td>457.160</td>\n",
       "      <td>453.86</td>\n",
       "      <td>453.92</td>\n",
       "      <td>48219255</td>\n",
       "    </tr>\n",
       "  </tbody>\n",
       "</table>\n",
       "</div>"
      ],
      "text/plain": [
       "                              AGG                                       \\\n",
       "                             open      high       low   close   volume   \n",
       "time                                                                     \n",
       "2021-10-21 00:00:00-04:00  114.01  114.0400  113.8423  113.85  4741154   \n",
       "2021-10-22 00:00:00-04:00  113.97  114.1399  113.8950  114.07  3309637   \n",
       "2021-10-25 00:00:00-04:00  114.06  114.2700  114.0600  114.17  7088133   \n",
       "2021-10-26 00:00:00-04:00  114.25  114.3800  114.1100  114.37  5284755   \n",
       "2021-10-27 00:00:00-04:00  114.66  114.9150  114.4250  114.77  6817074   \n",
       "\n",
       "                              SPY                                     \n",
       "                             open     high     low   close    volume  \n",
       "time                                                                  \n",
       "2021-10-21 00:00:00-04:00  451.76  453.829  451.31  453.61  33945007  \n",
       "2021-10-22 00:00:00-04:00  453.13  454.670  451.05  453.13  50771701  \n",
       "2021-10-25 00:00:00-04:00  454.28  455.900  452.39  455.48  37918548  \n",
       "2021-10-26 00:00:00-04:00  457.20  458.490  455.56  455.97  49865704  \n",
       "2021-10-27 00:00:00-04:00  456.45  457.160  453.86  453.92  48219255  "
      ]
     },
     "execution_count": 87,
     "metadata": {},
     "output_type": "execute_result"
    }
   ],
   "source": [
    "# Use the Alpaca get_barset function to make the API call to get the 3 years worth of pricing data\n",
    "# The tickers and timeframe parameters should have been set in Part 1 of this activity \n",
    "# The start and end dates should be updated with the information set above\n",
    "# Remember to add the df property to the end of the call so the response is returned as a DataFrame\n",
    "\n",
    "df_portfolio = alpaca.get_barset(\n",
    "    tickers,\n",
    "    timeframe,\n",
    "    start = 2019-9-7,\n",
    "    end = 2022-8-7,\n",
    "\n",
    ").df\n",
    "\n",
    "# Display both the first and last five rows of the DataFrame\n",
    "df_portfolio.head()\n",
    "\n",
    "df_portfolio.tail()"
   ]
  },
  {
   "cell_type": "markdown",
   "metadata": {},
   "source": [
    "#### Step 2: Run a Monte Carlo simulation of 500 samples and 30 years for the 60/40 portfolio, and then plot the results."
   ]
  },
  {
   "cell_type": "code",
   "execution_count": 88,
   "metadata": {},
   "outputs": [
    {
     "data": {
      "text/html": [
       "<div>\n",
       "<style scoped>\n",
       "    .dataframe tbody tr th:only-of-type {\n",
       "        vertical-align: middle;\n",
       "    }\n",
       "\n",
       "    .dataframe tbody tr th {\n",
       "        vertical-align: top;\n",
       "    }\n",
       "\n",
       "    .dataframe thead tr th {\n",
       "        text-align: left;\n",
       "    }\n",
       "\n",
       "    .dataframe thead tr:last-of-type th {\n",
       "        text-align: right;\n",
       "    }\n",
       "</style>\n",
       "<table border=\"1\" class=\"dataframe\">\n",
       "  <thead>\n",
       "    <tr>\n",
       "      <th></th>\n",
       "      <th colspan=\"6\" halign=\"left\">AGG</th>\n",
       "      <th colspan=\"6\" halign=\"left\">SPY</th>\n",
       "    </tr>\n",
       "    <tr>\n",
       "      <th></th>\n",
       "      <th>open</th>\n",
       "      <th>high</th>\n",
       "      <th>low</th>\n",
       "      <th>close</th>\n",
       "      <th>volume</th>\n",
       "      <th>daily_return</th>\n",
       "      <th>open</th>\n",
       "      <th>high</th>\n",
       "      <th>low</th>\n",
       "      <th>close</th>\n",
       "      <th>volume</th>\n",
       "      <th>daily_return</th>\n",
       "    </tr>\n",
       "    <tr>\n",
       "      <th>time</th>\n",
       "      <th></th>\n",
       "      <th></th>\n",
       "      <th></th>\n",
       "      <th></th>\n",
       "      <th></th>\n",
       "      <th></th>\n",
       "      <th></th>\n",
       "      <th></th>\n",
       "      <th></th>\n",
       "      <th></th>\n",
       "      <th></th>\n",
       "      <th></th>\n",
       "    </tr>\n",
       "  </thead>\n",
       "  <tbody>\n",
       "    <tr>\n",
       "      <th>2021-06-08 00:00:00-04:00</th>\n",
       "      <td>114.84</td>\n",
       "      <td>114.87</td>\n",
       "      <td>114.7800</td>\n",
       "      <td>114.82</td>\n",
       "      <td>3951702</td>\n",
       "      <td>NaN</td>\n",
       "      <td>423.11</td>\n",
       "      <td>423.21</td>\n",
       "      <td>420.32</td>\n",
       "      <td>422.27</td>\n",
       "      <td>40131441</td>\n",
       "      <td>NaN</td>\n",
       "    </tr>\n",
       "    <tr>\n",
       "      <th>2021-06-09 00:00:00-04:00</th>\n",
       "      <td>115.43</td>\n",
       "      <td>115.43</td>\n",
       "      <td>114.9700</td>\n",
       "      <td>115.05</td>\n",
       "      <td>3418086</td>\n",
       "      <td>0.002003</td>\n",
       "      <td>423.18</td>\n",
       "      <td>423.26</td>\n",
       "      <td>421.41</td>\n",
       "      <td>421.62</td>\n",
       "      <td>38368598</td>\n",
       "      <td>-0.001539</td>\n",
       "    </tr>\n",
       "    <tr>\n",
       "      <th>2021-06-10 00:00:00-04:00</th>\n",
       "      <td>115.30</td>\n",
       "      <td>115.31</td>\n",
       "      <td>114.8605</td>\n",
       "      <td>115.30</td>\n",
       "      <td>3665934</td>\n",
       "      <td>0.002173</td>\n",
       "      <td>422.96</td>\n",
       "      <td>424.63</td>\n",
       "      <td>421.55</td>\n",
       "      <td>423.58</td>\n",
       "      <td>43577329</td>\n",
       "      <td>0.004649</td>\n",
       "    </tr>\n",
       "    <tr>\n",
       "      <th>2021-06-11 00:00:00-04:00</th>\n",
       "      <td>115.31</td>\n",
       "      <td>115.32</td>\n",
       "      <td>115.1600</td>\n",
       "      <td>115.24</td>\n",
       "      <td>3476373</td>\n",
       "      <td>-0.000520</td>\n",
       "      <td>424.19</td>\n",
       "      <td>424.42</td>\n",
       "      <td>422.82</td>\n",
       "      <td>424.31</td>\n",
       "      <td>37018077</td>\n",
       "      <td>0.001723</td>\n",
       "    </tr>\n",
       "    <tr>\n",
       "      <th>2021-06-14 00:00:00-04:00</th>\n",
       "      <td>115.18</td>\n",
       "      <td>115.18</td>\n",
       "      <td>114.9350</td>\n",
       "      <td>114.97</td>\n",
       "      <td>2999623</td>\n",
       "      <td>-0.002343</td>\n",
       "      <td>424.43</td>\n",
       "      <td>425.29</td>\n",
       "      <td>423.10</td>\n",
       "      <td>425.29</td>\n",
       "      <td>33128340</td>\n",
       "      <td>0.002310</td>\n",
       "    </tr>\n",
       "  </tbody>\n",
       "</table>\n",
       "</div>"
      ],
      "text/plain": [
       "                              AGG                                     \\\n",
       "                             open    high       low   close   volume   \n",
       "time                                                                   \n",
       "2021-06-08 00:00:00-04:00  114.84  114.87  114.7800  114.82  3951702   \n",
       "2021-06-09 00:00:00-04:00  115.43  115.43  114.9700  115.05  3418086   \n",
       "2021-06-10 00:00:00-04:00  115.30  115.31  114.8605  115.30  3665934   \n",
       "2021-06-11 00:00:00-04:00  115.31  115.32  115.1600  115.24  3476373   \n",
       "2021-06-14 00:00:00-04:00  115.18  115.18  114.9350  114.97  2999623   \n",
       "\n",
       "                                           SPY                          \\\n",
       "                          daily_return    open    high     low   close   \n",
       "time                                                                     \n",
       "2021-06-08 00:00:00-04:00          NaN  423.11  423.21  420.32  422.27   \n",
       "2021-06-09 00:00:00-04:00     0.002003  423.18  423.26  421.41  421.62   \n",
       "2021-06-10 00:00:00-04:00     0.002173  422.96  424.63  421.55  423.58   \n",
       "2021-06-11 00:00:00-04:00    -0.000520  424.19  424.42  422.82  424.31   \n",
       "2021-06-14 00:00:00-04:00    -0.002343  424.43  425.29  423.10  425.29   \n",
       "\n",
       "                                                  \n",
       "                             volume daily_return  \n",
       "time                                              \n",
       "2021-06-08 00:00:00-04:00  40131441          NaN  \n",
       "2021-06-09 00:00:00-04:00  38368598    -0.001539  \n",
       "2021-06-10 00:00:00-04:00  43577329     0.004649  \n",
       "2021-06-11 00:00:00-04:00  37018077     0.001723  \n",
       "2021-06-14 00:00:00-04:00  33128340     0.002310  "
      ]
     },
     "execution_count": 88,
     "metadata": {},
     "output_type": "execute_result"
    }
   ],
   "source": [
    "# Configure the Monte Carlo simulation to forecast 30 years cumulative returns\n",
    "# The weights should be split 40% to AGG and 60% to SPY.\n",
    "# Run 500 samples.\n",
    "MC_even_weight= MCSimulation(portfolio_data = df_portfolio, weights = [.60,.40],num_simulation = 500,num_trading_days = 252*30)\n",
    "\n",
    "\n",
    "\n",
    "# Review the simulation input data\n",
    "MC_even_weight.portfolio_data.head()\n"
   ]
  },
  {
   "cell_type": "code",
   "execution_count": 89,
   "metadata": {},
   "outputs": [
    {
     "name": "stdout",
     "output_type": "stream",
     "text": [
      "Running Monte Carlo simulation number 0.\n",
      "Running Monte Carlo simulation number 10.\n",
      "Running Monte Carlo simulation number 20.\n",
      "Running Monte Carlo simulation number 30.\n",
      "Running Monte Carlo simulation number 40.\n",
      "Running Monte Carlo simulation number 50.\n",
      "Running Monte Carlo simulation number 60.\n",
      "Running Monte Carlo simulation number 70.\n",
      "Running Monte Carlo simulation number 80.\n",
      "Running Monte Carlo simulation number 90.\n",
      "Running Monte Carlo simulation number 100.\n",
      "Running Monte Carlo simulation number 110.\n",
      "Running Monte Carlo simulation number 120.\n",
      "Running Monte Carlo simulation number 130.\n",
      "Running Monte Carlo simulation number 140.\n",
      "Running Monte Carlo simulation number 150.\n",
      "Running Monte Carlo simulation number 160.\n",
      "Running Monte Carlo simulation number 170.\n",
      "Running Monte Carlo simulation number 180.\n",
      "Running Monte Carlo simulation number 190.\n",
      "Running Monte Carlo simulation number 200.\n",
      "Running Monte Carlo simulation number 210.\n",
      "Running Monte Carlo simulation number 220.\n",
      "Running Monte Carlo simulation number 230.\n",
      "Running Monte Carlo simulation number 240.\n",
      "Running Monte Carlo simulation number 250.\n",
      "Running Monte Carlo simulation number 260.\n",
      "Running Monte Carlo simulation number 270.\n",
      "Running Monte Carlo simulation number 280.\n",
      "Running Monte Carlo simulation number 290.\n",
      "Running Monte Carlo simulation number 300.\n",
      "Running Monte Carlo simulation number 310.\n",
      "Running Monte Carlo simulation number 320.\n",
      "Running Monte Carlo simulation number 330.\n",
      "Running Monte Carlo simulation number 340.\n",
      "Running Monte Carlo simulation number 350.\n",
      "Running Monte Carlo simulation number 360.\n",
      "Running Monte Carlo simulation number 370.\n",
      "Running Monte Carlo simulation number 380.\n",
      "Running Monte Carlo simulation number 390.\n",
      "Running Monte Carlo simulation number 400.\n",
      "Running Monte Carlo simulation number 410.\n",
      "Running Monte Carlo simulation number 420.\n",
      "Running Monte Carlo simulation number 430.\n",
      "Running Monte Carlo simulation number 440.\n",
      "Running Monte Carlo simulation number 450.\n",
      "Running Monte Carlo simulation number 460.\n",
      "Running Monte Carlo simulation number 470.\n",
      "Running Monte Carlo simulation number 480.\n",
      "Running Monte Carlo simulation number 490.\n"
     ]
    },
    {
     "data": {
      "text/html": [
       "<div>\n",
       "<style scoped>\n",
       "    .dataframe tbody tr th:only-of-type {\n",
       "        vertical-align: middle;\n",
       "    }\n",
       "\n",
       "    .dataframe tbody tr th {\n",
       "        vertical-align: top;\n",
       "    }\n",
       "\n",
       "    .dataframe thead th {\n",
       "        text-align: right;\n",
       "    }\n",
       "</style>\n",
       "<table border=\"1\" class=\"dataframe\">\n",
       "  <thead>\n",
       "    <tr style=\"text-align: right;\">\n",
       "      <th></th>\n",
       "      <th>0</th>\n",
       "      <th>1</th>\n",
       "      <th>2</th>\n",
       "      <th>3</th>\n",
       "      <th>4</th>\n",
       "      <th>5</th>\n",
       "      <th>6</th>\n",
       "      <th>7</th>\n",
       "      <th>8</th>\n",
       "      <th>9</th>\n",
       "      <th>...</th>\n",
       "      <th>490</th>\n",
       "      <th>491</th>\n",
       "      <th>492</th>\n",
       "      <th>493</th>\n",
       "      <th>494</th>\n",
       "      <th>495</th>\n",
       "      <th>496</th>\n",
       "      <th>497</th>\n",
       "      <th>498</th>\n",
       "      <th>499</th>\n",
       "    </tr>\n",
       "  </thead>\n",
       "  <tbody>\n",
       "    <tr>\n",
       "      <th>0</th>\n",
       "      <td>1.000000</td>\n",
       "      <td>1.000000</td>\n",
       "      <td>1.000000</td>\n",
       "      <td>1.000000</td>\n",
       "      <td>1.000000</td>\n",
       "      <td>1.000000</td>\n",
       "      <td>1.000000</td>\n",
       "      <td>1.000000</td>\n",
       "      <td>1.000000</td>\n",
       "      <td>1.000000</td>\n",
       "      <td>...</td>\n",
       "      <td>1.000000</td>\n",
       "      <td>1.000000</td>\n",
       "      <td>1.000000</td>\n",
       "      <td>1.000000</td>\n",
       "      <td>1.000000</td>\n",
       "      <td>1.000000</td>\n",
       "      <td>1.000000</td>\n",
       "      <td>1.000000</td>\n",
       "      <td>1.000000</td>\n",
       "      <td>1.000000</td>\n",
       "    </tr>\n",
       "    <tr>\n",
       "      <th>1</th>\n",
       "      <td>1.004510</td>\n",
       "      <td>0.999718</td>\n",
       "      <td>1.000269</td>\n",
       "      <td>1.003520</td>\n",
       "      <td>0.997721</td>\n",
       "      <td>0.999509</td>\n",
       "      <td>0.999802</td>\n",
       "      <td>1.003062</td>\n",
       "      <td>0.997883</td>\n",
       "      <td>1.001635</td>\n",
       "      <td>...</td>\n",
       "      <td>0.997900</td>\n",
       "      <td>1.002588</td>\n",
       "      <td>1.001344</td>\n",
       "      <td>0.998934</td>\n",
       "      <td>0.997478</td>\n",
       "      <td>0.997306</td>\n",
       "      <td>1.001474</td>\n",
       "      <td>1.003797</td>\n",
       "      <td>0.994122</td>\n",
       "      <td>0.997309</td>\n",
       "    </tr>\n",
       "    <tr>\n",
       "      <th>2</th>\n",
       "      <td>1.010229</td>\n",
       "      <td>0.997885</td>\n",
       "      <td>0.995221</td>\n",
       "      <td>1.005088</td>\n",
       "      <td>0.995658</td>\n",
       "      <td>1.002523</td>\n",
       "      <td>0.999120</td>\n",
       "      <td>1.006560</td>\n",
       "      <td>1.004680</td>\n",
       "      <td>1.005195</td>\n",
       "      <td>...</td>\n",
       "      <td>0.996291</td>\n",
       "      <td>1.003859</td>\n",
       "      <td>0.998657</td>\n",
       "      <td>0.999700</td>\n",
       "      <td>1.002981</td>\n",
       "      <td>0.996439</td>\n",
       "      <td>1.005961</td>\n",
       "      <td>0.999955</td>\n",
       "      <td>0.992775</td>\n",
       "      <td>0.997426</td>\n",
       "    </tr>\n",
       "    <tr>\n",
       "      <th>3</th>\n",
       "      <td>1.007195</td>\n",
       "      <td>0.991164</td>\n",
       "      <td>0.991725</td>\n",
       "      <td>1.002868</td>\n",
       "      <td>0.992961</td>\n",
       "      <td>1.005151</td>\n",
       "      <td>0.996156</td>\n",
       "      <td>1.004252</td>\n",
       "      <td>1.001245</td>\n",
       "      <td>1.009415</td>\n",
       "      <td>...</td>\n",
       "      <td>1.001782</td>\n",
       "      <td>1.005720</td>\n",
       "      <td>0.994310</td>\n",
       "      <td>1.003364</td>\n",
       "      <td>1.001804</td>\n",
       "      <td>0.999381</td>\n",
       "      <td>1.004992</td>\n",
       "      <td>1.003757</td>\n",
       "      <td>0.991190</td>\n",
       "      <td>0.998202</td>\n",
       "    </tr>\n",
       "    <tr>\n",
       "      <th>4</th>\n",
       "      <td>1.004057</td>\n",
       "      <td>0.986758</td>\n",
       "      <td>0.993088</td>\n",
       "      <td>1.003665</td>\n",
       "      <td>0.990227</td>\n",
       "      <td>1.004938</td>\n",
       "      <td>1.004037</td>\n",
       "      <td>1.004102</td>\n",
       "      <td>1.001701</td>\n",
       "      <td>1.011172</td>\n",
       "      <td>...</td>\n",
       "      <td>1.001931</td>\n",
       "      <td>1.001282</td>\n",
       "      <td>0.996205</td>\n",
       "      <td>1.005458</td>\n",
       "      <td>1.004776</td>\n",
       "      <td>0.999892</td>\n",
       "      <td>1.005799</td>\n",
       "      <td>1.002724</td>\n",
       "      <td>0.990736</td>\n",
       "      <td>0.997195</td>\n",
       "    </tr>\n",
       "    <tr>\n",
       "      <th>...</th>\n",
       "      <td>...</td>\n",
       "      <td>...</td>\n",
       "      <td>...</td>\n",
       "      <td>...</td>\n",
       "      <td>...</td>\n",
       "      <td>...</td>\n",
       "      <td>...</td>\n",
       "      <td>...</td>\n",
       "      <td>...</td>\n",
       "      <td>...</td>\n",
       "      <td>...</td>\n",
       "      <td>...</td>\n",
       "      <td>...</td>\n",
       "      <td>...</td>\n",
       "      <td>...</td>\n",
       "      <td>...</td>\n",
       "      <td>...</td>\n",
       "      <td>...</td>\n",
       "      <td>...</td>\n",
       "      <td>...</td>\n",
       "      <td>...</td>\n",
       "    </tr>\n",
       "    <tr>\n",
       "      <th>7556</th>\n",
       "      <td>9.034616</td>\n",
       "      <td>9.890928</td>\n",
       "      <td>7.026984</td>\n",
       "      <td>6.767909</td>\n",
       "      <td>8.189017</td>\n",
       "      <td>9.084316</td>\n",
       "      <td>6.279958</td>\n",
       "      <td>11.446730</td>\n",
       "      <td>13.032694</td>\n",
       "      <td>9.121046</td>\n",
       "      <td>...</td>\n",
       "      <td>8.039131</td>\n",
       "      <td>9.072164</td>\n",
       "      <td>9.928014</td>\n",
       "      <td>7.658272</td>\n",
       "      <td>7.404071</td>\n",
       "      <td>7.830345</td>\n",
       "      <td>8.665271</td>\n",
       "      <td>10.177731</td>\n",
       "      <td>8.789732</td>\n",
       "      <td>12.648174</td>\n",
       "    </tr>\n",
       "    <tr>\n",
       "      <th>7557</th>\n",
       "      <td>9.013563</td>\n",
       "      <td>9.887592</td>\n",
       "      <td>7.028393</td>\n",
       "      <td>6.748721</td>\n",
       "      <td>8.136178</td>\n",
       "      <td>9.083513</td>\n",
       "      <td>6.279580</td>\n",
       "      <td>11.472489</td>\n",
       "      <td>13.013521</td>\n",
       "      <td>9.153699</td>\n",
       "      <td>...</td>\n",
       "      <td>8.047511</td>\n",
       "      <td>9.080097</td>\n",
       "      <td>9.988408</td>\n",
       "      <td>7.672259</td>\n",
       "      <td>7.373760</td>\n",
       "      <td>7.869018</td>\n",
       "      <td>8.629685</td>\n",
       "      <td>10.180855</td>\n",
       "      <td>8.829604</td>\n",
       "      <td>12.671840</td>\n",
       "    </tr>\n",
       "    <tr>\n",
       "      <th>7558</th>\n",
       "      <td>9.024372</td>\n",
       "      <td>9.928288</td>\n",
       "      <td>7.017532</td>\n",
       "      <td>6.769668</td>\n",
       "      <td>8.121348</td>\n",
       "      <td>9.101132</td>\n",
       "      <td>6.292715</td>\n",
       "      <td>11.483524</td>\n",
       "      <td>13.018400</td>\n",
       "      <td>9.137574</td>\n",
       "      <td>...</td>\n",
       "      <td>8.046955</td>\n",
       "      <td>9.042533</td>\n",
       "      <td>10.017321</td>\n",
       "      <td>7.693309</td>\n",
       "      <td>7.424830</td>\n",
       "      <td>7.850433</td>\n",
       "      <td>8.655520</td>\n",
       "      <td>10.200086</td>\n",
       "      <td>8.823071</td>\n",
       "      <td>12.694458</td>\n",
       "    </tr>\n",
       "    <tr>\n",
       "      <th>7559</th>\n",
       "      <td>9.022942</td>\n",
       "      <td>9.940050</td>\n",
       "      <td>7.004920</td>\n",
       "      <td>6.797127</td>\n",
       "      <td>8.108835</td>\n",
       "      <td>9.144717</td>\n",
       "      <td>6.316724</td>\n",
       "      <td>11.513236</td>\n",
       "      <td>13.053706</td>\n",
       "      <td>9.100712</td>\n",
       "      <td>...</td>\n",
       "      <td>8.028897</td>\n",
       "      <td>9.057151</td>\n",
       "      <td>10.028647</td>\n",
       "      <td>7.730344</td>\n",
       "      <td>7.406322</td>\n",
       "      <td>7.862670</td>\n",
       "      <td>8.670979</td>\n",
       "      <td>10.248467</td>\n",
       "      <td>8.803302</td>\n",
       "      <td>12.765492</td>\n",
       "    </tr>\n",
       "    <tr>\n",
       "      <th>7560</th>\n",
       "      <td>9.041277</td>\n",
       "      <td>9.997035</td>\n",
       "      <td>6.950455</td>\n",
       "      <td>6.831852</td>\n",
       "      <td>8.116114</td>\n",
       "      <td>9.171862</td>\n",
       "      <td>6.339993</td>\n",
       "      <td>11.535367</td>\n",
       "      <td>13.033797</td>\n",
       "      <td>9.089917</td>\n",
       "      <td>...</td>\n",
       "      <td>8.006880</td>\n",
       "      <td>9.080971</td>\n",
       "      <td>10.044359</td>\n",
       "      <td>7.714843</td>\n",
       "      <td>7.450776</td>\n",
       "      <td>7.878002</td>\n",
       "      <td>8.682244</td>\n",
       "      <td>10.304341</td>\n",
       "      <td>8.803532</td>\n",
       "      <td>12.783407</td>\n",
       "    </tr>\n",
       "  </tbody>\n",
       "</table>\n",
       "<p>7561 rows × 500 columns</p>\n",
       "</div>"
      ],
      "text/plain": [
       "           0         1         2         3         4         5         6    \\\n",
       "0     1.000000  1.000000  1.000000  1.000000  1.000000  1.000000  1.000000   \n",
       "1     1.004510  0.999718  1.000269  1.003520  0.997721  0.999509  0.999802   \n",
       "2     1.010229  0.997885  0.995221  1.005088  0.995658  1.002523  0.999120   \n",
       "3     1.007195  0.991164  0.991725  1.002868  0.992961  1.005151  0.996156   \n",
       "4     1.004057  0.986758  0.993088  1.003665  0.990227  1.004938  1.004037   \n",
       "...        ...       ...       ...       ...       ...       ...       ...   \n",
       "7556  9.034616  9.890928  7.026984  6.767909  8.189017  9.084316  6.279958   \n",
       "7557  9.013563  9.887592  7.028393  6.748721  8.136178  9.083513  6.279580   \n",
       "7558  9.024372  9.928288  7.017532  6.769668  8.121348  9.101132  6.292715   \n",
       "7559  9.022942  9.940050  7.004920  6.797127  8.108835  9.144717  6.316724   \n",
       "7560  9.041277  9.997035  6.950455  6.831852  8.116114  9.171862  6.339993   \n",
       "\n",
       "            7          8         9    ...       490       491        492  \\\n",
       "0      1.000000   1.000000  1.000000  ...  1.000000  1.000000   1.000000   \n",
       "1      1.003062   0.997883  1.001635  ...  0.997900  1.002588   1.001344   \n",
       "2      1.006560   1.004680  1.005195  ...  0.996291  1.003859   0.998657   \n",
       "3      1.004252   1.001245  1.009415  ...  1.001782  1.005720   0.994310   \n",
       "4      1.004102   1.001701  1.011172  ...  1.001931  1.001282   0.996205   \n",
       "...         ...        ...       ...  ...       ...       ...        ...   \n",
       "7556  11.446730  13.032694  9.121046  ...  8.039131  9.072164   9.928014   \n",
       "7557  11.472489  13.013521  9.153699  ...  8.047511  9.080097   9.988408   \n",
       "7558  11.483524  13.018400  9.137574  ...  8.046955  9.042533  10.017321   \n",
       "7559  11.513236  13.053706  9.100712  ...  8.028897  9.057151  10.028647   \n",
       "7560  11.535367  13.033797  9.089917  ...  8.006880  9.080971  10.044359   \n",
       "\n",
       "           493       494       495       496        497       498        499  \n",
       "0     1.000000  1.000000  1.000000  1.000000   1.000000  1.000000   1.000000  \n",
       "1     0.998934  0.997478  0.997306  1.001474   1.003797  0.994122   0.997309  \n",
       "2     0.999700  1.002981  0.996439  1.005961   0.999955  0.992775   0.997426  \n",
       "3     1.003364  1.001804  0.999381  1.004992   1.003757  0.991190   0.998202  \n",
       "4     1.005458  1.004776  0.999892  1.005799   1.002724  0.990736   0.997195  \n",
       "...        ...       ...       ...       ...        ...       ...        ...  \n",
       "7556  7.658272  7.404071  7.830345  8.665271  10.177731  8.789732  12.648174  \n",
       "7557  7.672259  7.373760  7.869018  8.629685  10.180855  8.829604  12.671840  \n",
       "7558  7.693309  7.424830  7.850433  8.655520  10.200086  8.823071  12.694458  \n",
       "7559  7.730344  7.406322  7.862670  8.670979  10.248467  8.803302  12.765492  \n",
       "7560  7.714843  7.450776  7.878002  8.682244  10.304341  8.803532  12.783407  \n",
       "\n",
       "[7561 rows x 500 columns]"
      ]
     },
     "execution_count": 89,
     "metadata": {},
     "output_type": "execute_result"
    }
   ],
   "source": [
    "# Run the Monte Carlo simulation to forecast 30 years cumulative returns\n",
    "MC_even_weight.calc_cumulative_return()\n"
   ]
  },
  {
   "cell_type": "code",
   "execution_count": 90,
   "metadata": {},
   "outputs": [
    {
     "data": {
      "image/png": "[encoded data removed]",
      "text/plain": [
       "<Figure size 432x288 with 1 Axes>"
      ]
     },
     "metadata": {
      "needs_background": "light"
     },
     "output_type": "display_data"
    }
   ],
   "source": [
    "# Visualize the 30-year Monte Carlo simulation by creating an\n",
    "# overlay line plot\n",
    "even_weight_line_plot = MC_even_weight.plot_simulation()\n"
   ]
  },
  {
   "cell_type": "markdown",
   "metadata": {},
   "source": [
    "#### Step 3: Plot the probability distribution of the Monte Carlo simulation."
   ]
  },
  {
   "cell_type": "code",
   "execution_count": 91,
   "metadata": {},
   "outputs": [
    {
     "data": {
      "image/png": "[encoded data removed]",
      "text/plain": [
       "<Figure size 432x288 with 1 Axes>"
      ]
     },
     "metadata": {
      "needs_background": "light"
     },
     "output_type": "display_data"
    }
   ],
   "source": [
    "# Visualize the probability distribution of the 30-year Monte Carlo simulation \n",
    "# by plotting a histogram\n",
    "even_weight_distribution_plot = MC_even_weight.plot_distribution()\n"
   ]
  },
  {
   "cell_type": "markdown",
   "metadata": {},
   "source": [
    "#### Step 4: Generate the summary statistics for the Monte Carlo simulation."
   ]
  },
  {
   "cell_type": "code",
   "execution_count": 92,
   "metadata": {},
   "outputs": [
    {
     "name": "stdout",
     "output_type": "stream",
     "text": [
      "count           500.000000\n",
      "mean              9.704315\n",
      "std               2.719131\n",
      "min               4.702528\n",
      "25%               7.719836\n",
      "50%               9.201456\n",
      "75%              11.165304\n",
      "max              19.941237\n",
      "95% CI Lower      5.492600\n",
      "95% CI Upper     16.108781\n",
      "Name: 7560, dtype: float64\n"
     ]
    }
   ],
   "source": [
    "# Generate summary statistics from the 30-year Monte Carlo simulation results\n",
    "# Save the results as a variable\n",
    "even_weight_table = MC_even_weight.summarize_cumulative_return()\n",
    "\n",
    "\n",
    "\n",
    "# Review the 30-year Monte Carlo summary statistics\n",
    "print(even_weight_table)"
   ]
  },
  {
   "cell_type": "markdown",
   "metadata": {},
   "source": [
    "### Analyze the Retirement Portfolio Forecasts\n",
    "\n",
    "Using the current value of only the stock and bond portion of the member's portfolio and the summary statistics that you generated from the Monte Carlo simulation, answer the following question in your Jupyter notebook:\n",
    "\n",
    "-  What are the lower and upper bounds for the expected value of the portfolio with a 95% confidence interval?\n"
   ]
  },
  {
   "cell_type": "code",
   "execution_count": 95,
   "metadata": {},
   "outputs": [
    {
     "name": "stdout",
     "output_type": "stream",
     "text": [
      "There is a 95% chance that an initial investment of $12,000 in the portfolio with an even weight portfolio over the next 30 years will end within in the range of $65911.2 and $193305.37.\n"
     ]
    }
   ],
   "source": [
    "# Use the lower and upper `95%` confidence intervals to calculate the range of the possible outcomes for the current stock/bond portfolio\n",
    "ci_lower_thirty_cumulative_return = round(even_weight_table[8]*12000,2)\n",
    "ci_upper_thirty_cumulative_return = round(even_weight_table[9]*12000,2)\n",
    "\n",
    "# Print the result of your calculations\n",
    "\n",
    "print(f\"There is a 95% chance that an initial investment of $12,000 in the portfolio\"\n",
    "      f\" with an even weight portfolio over the next 30 years will end within in the range of\"\n",
    "      f\" ${ci_lower_thirty_cumulative_return} and ${ci_upper_thirty_cumulative_return }.\")"
   ]
  },
  {
   "cell_type": "markdown",
   "metadata": {},
   "source": [
    "### Forecast Cumulative Returns in 10 Years\n",
    "\n",
    "The CTO of the credit union is impressed with your work on these planning tools but wonders if 30 years is a long time to wait until retirement. So, your next task is to adjust the retirement portfolio and run a new Monte Carlo simulation to find out if the changes will allow members to retire earlier.\n",
    "\n",
    "For this new Monte Carlo simulation, do the following: \n",
    "\n",
    "- Forecast the cumulative returns for 10 years from now. Because of the shortened investment horizon (30 years to 10 years), the portfolio needs to invest more heavily in the riskier asset&mdash;that is, stock&mdash;to help accumulate wealth for retirement. \n",
    "\n",
    "- Adjust the weights of the retirement portfolio so that the composition for the Monte Carlo simulation consists of 20% bonds and 80% stocks. \n",
    "\n",
    "- Run the simulation over 500 samples, and use the same data that the API call to Alpaca generated.\n",
    "\n",
    "- Based on the new Monte Carlo simulation, answer the following questions in your Jupyter notebook:\n",
    "\n",
    "    - Using the current value of only the stock and bond portion of the member's portfolio and the summary statistics that you generated from the new Monte Carlo simulation, what are the lower and upper bounds for the expected value of the portfolio (with the new weights) with a 95% confidence interval?\n",
    "\n",
    "    - Will weighting the portfolio more heavily toward stocks allow the credit union members to retire after only 10 years?\n"
   ]
  },
  {
   "cell_type": "code",
   "execution_count": 96,
   "metadata": {},
   "outputs": [
    {
     "data": {
      "text/html": [
       "<div>\n",
       "<style scoped>\n",
       "    .dataframe tbody tr th:only-of-type {\n",
       "        vertical-align: middle;\n",
       "    }\n",
       "\n",
       "    .dataframe tbody tr th {\n",
       "        vertical-align: top;\n",
       "    }\n",
       "\n",
       "    .dataframe thead tr th {\n",
       "        text-align: left;\n",
       "    }\n",
       "\n",
       "    .dataframe thead tr:last-of-type th {\n",
       "        text-align: right;\n",
       "    }\n",
       "</style>\n",
       "<table border=\"1\" class=\"dataframe\">\n",
       "  <thead>\n",
       "    <tr>\n",
       "      <th></th>\n",
       "      <th colspan=\"6\" halign=\"left\">AGG</th>\n",
       "      <th colspan=\"6\" halign=\"left\">SPY</th>\n",
       "    </tr>\n",
       "    <tr>\n",
       "      <th></th>\n",
       "      <th>open</th>\n",
       "      <th>high</th>\n",
       "      <th>low</th>\n",
       "      <th>close</th>\n",
       "      <th>volume</th>\n",
       "      <th>daily_return</th>\n",
       "      <th>open</th>\n",
       "      <th>high</th>\n",
       "      <th>low</th>\n",
       "      <th>close</th>\n",
       "      <th>volume</th>\n",
       "      <th>daily_return</th>\n",
       "    </tr>\n",
       "    <tr>\n",
       "      <th>time</th>\n",
       "      <th></th>\n",
       "      <th></th>\n",
       "      <th></th>\n",
       "      <th></th>\n",
       "      <th></th>\n",
       "      <th></th>\n",
       "      <th></th>\n",
       "      <th></th>\n",
       "      <th></th>\n",
       "      <th></th>\n",
       "      <th></th>\n",
       "      <th></th>\n",
       "    </tr>\n",
       "  </thead>\n",
       "  <tbody>\n",
       "    <tr>\n",
       "      <th>2021-06-08 00:00:00-04:00</th>\n",
       "      <td>114.84</td>\n",
       "      <td>114.87</td>\n",
       "      <td>114.7800</td>\n",
       "      <td>114.82</td>\n",
       "      <td>3951702</td>\n",
       "      <td>NaN</td>\n",
       "      <td>423.11</td>\n",
       "      <td>423.21</td>\n",
       "      <td>420.32</td>\n",
       "      <td>422.27</td>\n",
       "      <td>40131441</td>\n",
       "      <td>NaN</td>\n",
       "    </tr>\n",
       "    <tr>\n",
       "      <th>2021-06-09 00:00:00-04:00</th>\n",
       "      <td>115.43</td>\n",
       "      <td>115.43</td>\n",
       "      <td>114.9700</td>\n",
       "      <td>115.05</td>\n",
       "      <td>3418086</td>\n",
       "      <td>0.002003</td>\n",
       "      <td>423.18</td>\n",
       "      <td>423.26</td>\n",
       "      <td>421.41</td>\n",
       "      <td>421.62</td>\n",
       "      <td>38368598</td>\n",
       "      <td>-0.001539</td>\n",
       "    </tr>\n",
       "    <tr>\n",
       "      <th>2021-06-10 00:00:00-04:00</th>\n",
       "      <td>115.30</td>\n",
       "      <td>115.31</td>\n",
       "      <td>114.8605</td>\n",
       "      <td>115.30</td>\n",
       "      <td>3665934</td>\n",
       "      <td>0.002173</td>\n",
       "      <td>422.96</td>\n",
       "      <td>424.63</td>\n",
       "      <td>421.55</td>\n",
       "      <td>423.58</td>\n",
       "      <td>43577329</td>\n",
       "      <td>0.004649</td>\n",
       "    </tr>\n",
       "    <tr>\n",
       "      <th>2021-06-11 00:00:00-04:00</th>\n",
       "      <td>115.31</td>\n",
       "      <td>115.32</td>\n",
       "      <td>115.1600</td>\n",
       "      <td>115.24</td>\n",
       "      <td>3476373</td>\n",
       "      <td>-0.000520</td>\n",
       "      <td>424.19</td>\n",
       "      <td>424.42</td>\n",
       "      <td>422.82</td>\n",
       "      <td>424.31</td>\n",
       "      <td>37018077</td>\n",
       "      <td>0.001723</td>\n",
       "    </tr>\n",
       "    <tr>\n",
       "      <th>2021-06-14 00:00:00-04:00</th>\n",
       "      <td>115.18</td>\n",
       "      <td>115.18</td>\n",
       "      <td>114.9350</td>\n",
       "      <td>114.97</td>\n",
       "      <td>2999623</td>\n",
       "      <td>-0.002343</td>\n",
       "      <td>424.43</td>\n",
       "      <td>425.29</td>\n",
       "      <td>423.10</td>\n",
       "      <td>425.29</td>\n",
       "      <td>33128340</td>\n",
       "      <td>0.002310</td>\n",
       "    </tr>\n",
       "  </tbody>\n",
       "</table>\n",
       "</div>"
      ],
      "text/plain": [
       "                              AGG                                     \\\n",
       "                             open    high       low   close   volume   \n",
       "time                                                                   \n",
       "2021-06-08 00:00:00-04:00  114.84  114.87  114.7800  114.82  3951702   \n",
       "2021-06-09 00:00:00-04:00  115.43  115.43  114.9700  115.05  3418086   \n",
       "2021-06-10 00:00:00-04:00  115.30  115.31  114.8605  115.30  3665934   \n",
       "2021-06-11 00:00:00-04:00  115.31  115.32  115.1600  115.24  3476373   \n",
       "2021-06-14 00:00:00-04:00  115.18  115.18  114.9350  114.97  2999623   \n",
       "\n",
       "                                           SPY                          \\\n",
       "                          daily_return    open    high     low   close   \n",
       "time                                                                     \n",
       "2021-06-08 00:00:00-04:00          NaN  423.11  423.21  420.32  422.27   \n",
       "2021-06-09 00:00:00-04:00     0.002003  423.18  423.26  421.41  421.62   \n",
       "2021-06-10 00:00:00-04:00     0.002173  422.96  424.63  421.55  423.58   \n",
       "2021-06-11 00:00:00-04:00    -0.000520  424.19  424.42  422.82  424.31   \n",
       "2021-06-14 00:00:00-04:00    -0.002343  424.43  425.29  423.10  425.29   \n",
       "\n",
       "                                                  \n",
       "                             volume daily_return  \n",
       "time                                              \n",
       "2021-06-08 00:00:00-04:00  40131441          NaN  \n",
       "2021-06-09 00:00:00-04:00  38368598    -0.001539  \n",
       "2021-06-10 00:00:00-04:00  43577329     0.004649  \n",
       "2021-06-11 00:00:00-04:00  37018077     0.001723  \n",
       "2021-06-14 00:00:00-04:00  33128340     0.002310  "
      ]
     },
     "execution_count": 96,
     "metadata": {},
     "output_type": "execute_result"
    }
   ],
   "source": [
    "# Configure a Monte Carlo simulation to forecast 10 years cumulative returns\n",
    "# The weights should be split 20% to AGG and 80% to SPY.\n",
    "# Run 500 samples.\n",
    "MC_even_weight= MCSimulation(portfolio_data = df_portfolio, weights = [.20,.80],num_simulation = 500,num_trading_days = 252*10)\n",
    "\n",
    "\n",
    "\n",
    "# Review the simulation input data\n",
    "MC_even_weight.portfolio_data.head()\n",
    "\n",
    "\n"
   ]
  },
  {
   "cell_type": "code",
   "execution_count": 100,
   "metadata": {},
   "outputs": [
    {
     "name": "stdout",
     "output_type": "stream",
     "text": [
      "Running Monte Carlo simulation number 0.\n",
      "Running Monte Carlo simulation number 10.\n",
      "Running Monte Carlo simulation number 20.\n",
      "Running Monte Carlo simulation number 30.\n",
      "Running Monte Carlo simulation number 40.\n",
      "Running Monte Carlo simulation number 50.\n",
      "Running Monte Carlo simulation number 60.\n",
      "Running Monte Carlo simulation number 70.\n",
      "Running Monte Carlo simulation number 80.\n",
      "Running Monte Carlo simulation number 90.\n",
      "Running Monte Carlo simulation number 100.\n",
      "Running Monte Carlo simulation number 110.\n",
      "Running Monte Carlo simulation number 120.\n",
      "Running Monte Carlo simulation number 130.\n",
      "Running Monte Carlo simulation number 140.\n",
      "Running Monte Carlo simulation number 150.\n",
      "Running Monte Carlo simulation number 160.\n",
      "Running Monte Carlo simulation number 170.\n",
      "Running Monte Carlo simulation number 180.\n",
      "Running Monte Carlo simulation number 190.\n",
      "Running Monte Carlo simulation number 200.\n",
      "Running Monte Carlo simulation number 210.\n",
      "Running Monte Carlo simulation number 220.\n",
      "Running Monte Carlo simulation number 230.\n",
      "Running Monte Carlo simulation number 240.\n",
      "Running Monte Carlo simulation number 250.\n",
      "Running Monte Carlo simulation number 260.\n",
      "Running Monte Carlo simulation number 270.\n",
      "Running Monte Carlo simulation number 280.\n",
      "Running Monte Carlo simulation number 290.\n",
      "Running Monte Carlo simulation number 300.\n",
      "Running Monte Carlo simulation number 310.\n",
      "Running Monte Carlo simulation number 320.\n",
      "Running Monte Carlo simulation number 330.\n",
      "Running Monte Carlo simulation number 340.\n",
      "Running Monte Carlo simulation number 350.\n",
      "Running Monte Carlo simulation number 360.\n",
      "Running Monte Carlo simulation number 370.\n",
      "Running Monte Carlo simulation number 380.\n",
      "Running Monte Carlo simulation number 390.\n",
      "Running Monte Carlo simulation number 400.\n",
      "Running Monte Carlo simulation number 410.\n",
      "Running Monte Carlo simulation number 420.\n",
      "Running Monte Carlo simulation number 430.\n",
      "Running Monte Carlo simulation number 440.\n",
      "Running Monte Carlo simulation number 450.\n",
      "Running Monte Carlo simulation number 460.\n",
      "Running Monte Carlo simulation number 470.\n",
      "Running Monte Carlo simulation number 480.\n",
      "Running Monte Carlo simulation number 490.\n"
     ]
    },
    {
     "data": {
      "text/html": [
       "<div>\n",
       "<style scoped>\n",
       "    .dataframe tbody tr th:only-of-type {\n",
       "        vertical-align: middle;\n",
       "    }\n",
       "\n",
       "    .dataframe tbody tr th {\n",
       "        vertical-align: top;\n",
       "    }\n",
       "\n",
       "    .dataframe thead th {\n",
       "        text-align: right;\n",
       "    }\n",
       "</style>\n",
       "<table border=\"1\" class=\"dataframe\">\n",
       "  <thead>\n",
       "    <tr style=\"text-align: right;\">\n",
       "      <th></th>\n",
       "      <th>0</th>\n",
       "      <th>1</th>\n",
       "      <th>2</th>\n",
       "      <th>3</th>\n",
       "      <th>4</th>\n",
       "      <th>5</th>\n",
       "      <th>6</th>\n",
       "      <th>7</th>\n",
       "      <th>8</th>\n",
       "      <th>9</th>\n",
       "      <th>...</th>\n",
       "      <th>490</th>\n",
       "      <th>491</th>\n",
       "      <th>492</th>\n",
       "      <th>493</th>\n",
       "      <th>494</th>\n",
       "      <th>495</th>\n",
       "      <th>496</th>\n",
       "      <th>497</th>\n",
       "      <th>498</th>\n",
       "      <th>499</th>\n",
       "    </tr>\n",
       "  </thead>\n",
       "  <tbody>\n",
       "    <tr>\n",
       "      <th>0</th>\n",
       "      <td>1.000000</td>\n",
       "      <td>1.000000</td>\n",
       "      <td>1.000000</td>\n",
       "      <td>1.000000</td>\n",
       "      <td>1.000000</td>\n",
       "      <td>1.000000</td>\n",
       "      <td>1.000000</td>\n",
       "      <td>1.000000</td>\n",
       "      <td>1.000000</td>\n",
       "      <td>1.000000</td>\n",
       "      <td>...</td>\n",
       "      <td>1.000000</td>\n",
       "      <td>1.000000</td>\n",
       "      <td>1.000000</td>\n",
       "      <td>1.000000</td>\n",
       "      <td>1.000000</td>\n",
       "      <td>1.000000</td>\n",
       "      <td>1.000000</td>\n",
       "      <td>1.000000</td>\n",
       "      <td>1.000000</td>\n",
       "      <td>1.000000</td>\n",
       "    </tr>\n",
       "    <tr>\n",
       "      <th>1</th>\n",
       "      <td>0.991002</td>\n",
       "      <td>0.988899</td>\n",
       "      <td>0.995362</td>\n",
       "      <td>1.006370</td>\n",
       "      <td>0.995729</td>\n",
       "      <td>1.010041</td>\n",
       "      <td>0.998380</td>\n",
       "      <td>0.994206</td>\n",
       "      <td>0.997849</td>\n",
       "      <td>0.992996</td>\n",
       "      <td>...</td>\n",
       "      <td>1.009522</td>\n",
       "      <td>0.998096</td>\n",
       "      <td>0.995449</td>\n",
       "      <td>1.000628</td>\n",
       "      <td>0.995659</td>\n",
       "      <td>1.002441</td>\n",
       "      <td>0.999685</td>\n",
       "      <td>0.997127</td>\n",
       "      <td>1.009157</td>\n",
       "      <td>1.003560</td>\n",
       "    </tr>\n",
       "    <tr>\n",
       "      <th>2</th>\n",
       "      <td>0.992847</td>\n",
       "      <td>0.983024</td>\n",
       "      <td>0.991142</td>\n",
       "      <td>1.011711</td>\n",
       "      <td>1.003663</td>\n",
       "      <td>1.018708</td>\n",
       "      <td>0.996129</td>\n",
       "      <td>0.995389</td>\n",
       "      <td>1.002465</td>\n",
       "      <td>0.987287</td>\n",
       "      <td>...</td>\n",
       "      <td>1.014815</td>\n",
       "      <td>1.008750</td>\n",
       "      <td>1.003956</td>\n",
       "      <td>1.010779</td>\n",
       "      <td>0.992941</td>\n",
       "      <td>0.996420</td>\n",
       "      <td>1.002737</td>\n",
       "      <td>0.985921</td>\n",
       "      <td>1.009084</td>\n",
       "      <td>0.998434</td>\n",
       "    </tr>\n",
       "    <tr>\n",
       "      <th>3</th>\n",
       "      <td>0.995372</td>\n",
       "      <td>0.980278</td>\n",
       "      <td>0.993238</td>\n",
       "      <td>1.014362</td>\n",
       "      <td>1.006163</td>\n",
       "      <td>1.015901</td>\n",
       "      <td>0.998388</td>\n",
       "      <td>0.993178</td>\n",
       "      <td>1.000076</td>\n",
       "      <td>0.991435</td>\n",
       "      <td>...</td>\n",
       "      <td>1.010683</td>\n",
       "      <td>1.005883</td>\n",
       "      <td>1.001164</td>\n",
       "      <td>1.014570</td>\n",
       "      <td>0.986974</td>\n",
       "      <td>0.995089</td>\n",
       "      <td>1.008047</td>\n",
       "      <td>0.989379</td>\n",
       "      <td>1.024341</td>\n",
       "      <td>0.994982</td>\n",
       "    </tr>\n",
       "    <tr>\n",
       "      <th>4</th>\n",
       "      <td>0.998638</td>\n",
       "      <td>0.973300</td>\n",
       "      <td>1.002185</td>\n",
       "      <td>1.016756</td>\n",
       "      <td>1.006715</td>\n",
       "      <td>1.017846</td>\n",
       "      <td>0.991129</td>\n",
       "      <td>0.988642</td>\n",
       "      <td>0.990662</td>\n",
       "      <td>0.989359</td>\n",
       "      <td>...</td>\n",
       "      <td>1.011446</td>\n",
       "      <td>1.002803</td>\n",
       "      <td>1.016598</td>\n",
       "      <td>1.012226</td>\n",
       "      <td>0.981408</td>\n",
       "      <td>0.991195</td>\n",
       "      <td>1.013693</td>\n",
       "      <td>0.992614</td>\n",
       "      <td>1.014827</td>\n",
       "      <td>0.997515</td>\n",
       "    </tr>\n",
       "    <tr>\n",
       "      <th>...</th>\n",
       "      <td>...</td>\n",
       "      <td>...</td>\n",
       "      <td>...</td>\n",
       "      <td>...</td>\n",
       "      <td>...</td>\n",
       "      <td>...</td>\n",
       "      <td>...</td>\n",
       "      <td>...</td>\n",
       "      <td>...</td>\n",
       "      <td>...</td>\n",
       "      <td>...</td>\n",
       "      <td>...</td>\n",
       "      <td>...</td>\n",
       "      <td>...</td>\n",
       "      <td>...</td>\n",
       "      <td>...</td>\n",
       "      <td>...</td>\n",
       "      <td>...</td>\n",
       "      <td>...</td>\n",
       "      <td>...</td>\n",
       "      <td>...</td>\n",
       "    </tr>\n",
       "    <tr>\n",
       "      <th>2516</th>\n",
       "      <td>7.076020</td>\n",
       "      <td>7.168519</td>\n",
       "      <td>3.699148</td>\n",
       "      <td>4.635646</td>\n",
       "      <td>5.363344</td>\n",
       "      <td>5.001180</td>\n",
       "      <td>5.524030</td>\n",
       "      <td>4.415192</td>\n",
       "      <td>6.786968</td>\n",
       "      <td>4.999785</td>\n",
       "      <td>...</td>\n",
       "      <td>4.266795</td>\n",
       "      <td>3.754524</td>\n",
       "      <td>4.408769</td>\n",
       "      <td>4.954274</td>\n",
       "      <td>4.489644</td>\n",
       "      <td>4.724288</td>\n",
       "      <td>3.923489</td>\n",
       "      <td>5.982916</td>\n",
       "      <td>6.210377</td>\n",
       "      <td>3.601773</td>\n",
       "    </tr>\n",
       "    <tr>\n",
       "      <th>2517</th>\n",
       "      <td>7.048301</td>\n",
       "      <td>7.191327</td>\n",
       "      <td>3.721409</td>\n",
       "      <td>4.632100</td>\n",
       "      <td>5.323397</td>\n",
       "      <td>5.024160</td>\n",
       "      <td>5.487905</td>\n",
       "      <td>4.391448</td>\n",
       "      <td>6.828414</td>\n",
       "      <td>5.034427</td>\n",
       "      <td>...</td>\n",
       "      <td>4.294061</td>\n",
       "      <td>3.768135</td>\n",
       "      <td>4.408867</td>\n",
       "      <td>4.939938</td>\n",
       "      <td>4.480248</td>\n",
       "      <td>4.684856</td>\n",
       "      <td>3.917911</td>\n",
       "      <td>6.000009</td>\n",
       "      <td>6.185825</td>\n",
       "      <td>3.616909</td>\n",
       "    </tr>\n",
       "    <tr>\n",
       "      <th>2518</th>\n",
       "      <td>7.031531</td>\n",
       "      <td>7.241080</td>\n",
       "      <td>3.726520</td>\n",
       "      <td>4.612405</td>\n",
       "      <td>5.335210</td>\n",
       "      <td>4.995555</td>\n",
       "      <td>5.502359</td>\n",
       "      <td>4.378146</td>\n",
       "      <td>6.878053</td>\n",
       "      <td>4.984150</td>\n",
       "      <td>...</td>\n",
       "      <td>4.270759</td>\n",
       "      <td>3.765534</td>\n",
       "      <td>4.473410</td>\n",
       "      <td>4.943060</td>\n",
       "      <td>4.499489</td>\n",
       "      <td>4.678557</td>\n",
       "      <td>3.910442</td>\n",
       "      <td>6.023213</td>\n",
       "      <td>6.178656</td>\n",
       "      <td>3.645448</td>\n",
       "    </tr>\n",
       "    <tr>\n",
       "      <th>2519</th>\n",
       "      <td>7.076052</td>\n",
       "      <td>7.252222</td>\n",
       "      <td>3.733101</td>\n",
       "      <td>4.587737</td>\n",
       "      <td>5.372701</td>\n",
       "      <td>5.010026</td>\n",
       "      <td>5.533366</td>\n",
       "      <td>4.380953</td>\n",
       "      <td>6.898673</td>\n",
       "      <td>4.929113</td>\n",
       "      <td>...</td>\n",
       "      <td>4.257224</td>\n",
       "      <td>3.742253</td>\n",
       "      <td>4.486748</td>\n",
       "      <td>4.938112</td>\n",
       "      <td>4.533860</td>\n",
       "      <td>4.669682</td>\n",
       "      <td>3.868763</td>\n",
       "      <td>6.016812</td>\n",
       "      <td>6.155922</td>\n",
       "      <td>3.647115</td>\n",
       "    </tr>\n",
       "    <tr>\n",
       "      <th>2520</th>\n",
       "      <td>7.129966</td>\n",
       "      <td>7.346665</td>\n",
       "      <td>3.733997</td>\n",
       "      <td>4.552108</td>\n",
       "      <td>5.361424</td>\n",
       "      <td>4.976812</td>\n",
       "      <td>5.582884</td>\n",
       "      <td>4.421365</td>\n",
       "      <td>6.876354</td>\n",
       "      <td>4.943217</td>\n",
       "      <td>...</td>\n",
       "      <td>4.240719</td>\n",
       "      <td>3.751798</td>\n",
       "      <td>4.462168</td>\n",
       "      <td>4.956638</td>\n",
       "      <td>4.556228</td>\n",
       "      <td>4.679562</td>\n",
       "      <td>3.844557</td>\n",
       "      <td>6.096852</td>\n",
       "      <td>6.248889</td>\n",
       "      <td>3.673286</td>\n",
       "    </tr>\n",
       "  </tbody>\n",
       "</table>\n",
       "<p>2521 rows × 500 columns</p>\n",
       "</div>"
      ],
      "text/plain": [
       "           0         1         2         3         4         5         6    \\\n",
       "0     1.000000  1.000000  1.000000  1.000000  1.000000  1.000000  1.000000   \n",
       "1     0.991002  0.988899  0.995362  1.006370  0.995729  1.010041  0.998380   \n",
       "2     0.992847  0.983024  0.991142  1.011711  1.003663  1.018708  0.996129   \n",
       "3     0.995372  0.980278  0.993238  1.014362  1.006163  1.015901  0.998388   \n",
       "4     0.998638  0.973300  1.002185  1.016756  1.006715  1.017846  0.991129   \n",
       "...        ...       ...       ...       ...       ...       ...       ...   \n",
       "2516  7.076020  7.168519  3.699148  4.635646  5.363344  5.001180  5.524030   \n",
       "2517  7.048301  7.191327  3.721409  4.632100  5.323397  5.024160  5.487905   \n",
       "2518  7.031531  7.241080  3.726520  4.612405  5.335210  4.995555  5.502359   \n",
       "2519  7.076052  7.252222  3.733101  4.587737  5.372701  5.010026  5.533366   \n",
       "2520  7.129966  7.346665  3.733997  4.552108  5.361424  4.976812  5.582884   \n",
       "\n",
       "           7         8         9    ...       490       491       492  \\\n",
       "0     1.000000  1.000000  1.000000  ...  1.000000  1.000000  1.000000   \n",
       "1     0.994206  0.997849  0.992996  ...  1.009522  0.998096  0.995449   \n",
       "2     0.995389  1.002465  0.987287  ...  1.014815  1.008750  1.003956   \n",
       "3     0.993178  1.000076  0.991435  ...  1.010683  1.005883  1.001164   \n",
       "4     0.988642  0.990662  0.989359  ...  1.011446  1.002803  1.016598   \n",
       "...        ...       ...       ...  ...       ...       ...       ...   \n",
       "2516  4.415192  6.786968  4.999785  ...  4.266795  3.754524  4.408769   \n",
       "2517  4.391448  6.828414  5.034427  ...  4.294061  3.768135  4.408867   \n",
       "2518  4.378146  6.878053  4.984150  ...  4.270759  3.765534  4.473410   \n",
       "2519  4.380953  6.898673  4.929113  ...  4.257224  3.742253  4.486748   \n",
       "2520  4.421365  6.876354  4.943217  ...  4.240719  3.751798  4.462168   \n",
       "\n",
       "           493       494       495       496       497       498       499  \n",
       "0     1.000000  1.000000  1.000000  1.000000  1.000000  1.000000  1.000000  \n",
       "1     1.000628  0.995659  1.002441  0.999685  0.997127  1.009157  1.003560  \n",
       "2     1.010779  0.992941  0.996420  1.002737  0.985921  1.009084  0.998434  \n",
       "3     1.014570  0.986974  0.995089  1.008047  0.989379  1.024341  0.994982  \n",
       "4     1.012226  0.981408  0.991195  1.013693  0.992614  1.014827  0.997515  \n",
       "...        ...       ...       ...       ...       ...       ...       ...  \n",
       "2516  4.954274  4.489644  4.724288  3.923489  5.982916  6.210377  3.601773  \n",
       "2517  4.939938  4.480248  4.684856  3.917911  6.000009  6.185825  3.616909  \n",
       "2518  4.943060  4.499489  4.678557  3.910442  6.023213  6.178656  3.645448  \n",
       "2519  4.938112  4.533860  4.669682  3.868763  6.016812  6.155922  3.647115  \n",
       "2520  4.956638  4.556228  4.679562  3.844557  6.096852  6.248889  3.673286  \n",
       "\n",
       "[2521 rows x 500 columns]"
      ]
     },
     "execution_count": 100,
     "metadata": {},
     "output_type": "execute_result"
    }
   ],
   "source": [
    "# Run the Monte Carlo simulation to forecast 10 years cumulative returns\n",
    "MC_even_weight.calc_cumulative_return()\n"
   ]
  },
  {
   "cell_type": "code",
   "execution_count": 98,
   "metadata": {},
   "outputs": [
    {
     "data": {
      "image/png": "[encoded data removed]",
      "text/plain": [
       "<Figure size 432x288 with 1 Axes>"
      ]
     },
     "metadata": {
      "needs_background": "light"
     },
     "output_type": "display_data"
    }
   ],
   "source": [
    "# Visualize the 10-year Monte Carlo simulation by creating an\n",
    "# overlay line plot\n",
    "even_weight_line_plot = MC_even_weight.plot_simulation()\n"
   ]
  },
  {
   "cell_type": "code",
   "execution_count": 99,
   "metadata": {},
   "outputs": [
    {
     "data": {
      "image/png": "[encoded data removed]",
      "text/plain": [
       "<Figure size 432x288 with 1 Axes>"
      ]
     },
     "metadata": {
      "needs_background": "light"
     },
     "output_type": "display_data"
    }
   ],
   "source": [
    "# Visualize the probability distribution of the 10-year Monte Carlo simulation \n",
    "# by plotting a histogram\n",
    "even_weight_distribution_plot = MC_even_weight.plot_distribution()\n"
   ]
  },
  {
   "cell_type": "code",
   "execution_count": 101,
   "metadata": {},
   "outputs": [
    {
     "name": "stdout",
     "output_type": "stream",
     "text": [
      "count           500.000000\n",
      "mean              4.524886\n",
      "std               1.260462\n",
      "min               2.163338\n",
      "25%               3.633028\n",
      "50%               4.351724\n",
      "75%               5.165295\n",
      "max              11.162589\n",
      "95% CI Lower      2.634260\n",
      "95% CI Upper      7.383692\n",
      "Name: 2520, dtype: float64\n"
     ]
    }
   ],
   "source": [
    "# Generate summary statistics from the 10-year Monte Carlo simulation results\n",
    "even_weight_table = MC_even_weight.summarize_cumulative_return()\n",
    "\n",
    "\n",
    "\n",
    "# Review the 10-year Monte Carlo summary statistics\n",
    "print(even_weight_table)"
   ]
  },
  {
   "cell_type": "markdown",
   "metadata": {},
   "source": [
    "### Answer the following questions:"
   ]
  },
  {
   "cell_type": "markdown",
   "metadata": {},
   "source": [
    "#### Question: Using the current value of only the stock and bond portion of the member's portfolio and the summary statistics that you generated from the new Monte Carlo simulation, what are the lower and upper bounds for the expected value of the portfolio (with the new weights) with a 95% confidence interval?"
   ]
  },
  {
   "cell_type": "code",
   "execution_count": 104,
   "metadata": {},
   "outputs": [
    {
     "name": "stdout",
     "output_type": "stream",
     "text": [
      "There is a 95% chance that an initial investment of $12,000 in the portfolio with an even weight portfolio over the next 10 years will end within in the range of $65911.2 and $193305.37.\n"
     ]
    }
   ],
   "source": [
    "# Use the lower and upper `95%` confidence intervals to calculate the range of the possible outcomes for the current stock/bond portfolio\n",
    "ci_lower_ten_cumulative_return = round(even_weight_table[8]*12000,2)\n",
    "ci_upper_ten_cumulative_return = round(even_weight_table[9]*12000,2)\n",
    "\n",
    "\n",
    "# Print the result of your calculations\n",
    "print(f\"There is a 95% chance that an initial investment of $12,000 in the portfolio\"\n",
    "      f\" with an even weight portfolio over the next 10 years will end within in the range of\"\n",
    "      f\" ${ci_lower_thirty_cumulative_return} and ${ci_upper_thirty_cumulative_return }.\")\n"
   ]
  },
  {
   "cell_type": "markdown",
   "metadata": {},
   "source": [
    "#### Question: Will weighting the portfolio more heavily to stocks allow the credit union members to retire after only 10 years?"
   ]
  },
  {
   "cell_type": "raw",
   "metadata": {},
   "source": [
    "**Answer** Yes, retirement can be on 10 years based on cumulative returns values."
   ]
  },
  {
   "cell_type": "code",
   "execution_count": null,
   "metadata": {},
   "outputs": [],
   "source": []
  }
 ],
 "metadata": {
  "kernelspec": {
   "display_name": "dev",
   "language": "python",
   "name": "dev"
  },
  "language_info": {
   "codemirror_mode": {
    "name": "ipython",
    "version": 3
   },
   "file_extension": ".py",
   "mimetype": "text/x-python",
   "name": "python",
   "nbconvert_exporter": "python",
   "pygments_lexer": "ipython3",
   "version": "3.7.10"
  }
 },
 "nbformat": 4,
 "nbformat_minor": 4
}
