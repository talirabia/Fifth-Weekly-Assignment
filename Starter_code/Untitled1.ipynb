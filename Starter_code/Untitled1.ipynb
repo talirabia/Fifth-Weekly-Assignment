{
 "cells": [
  {
   "cell_type": "code",
   "execution_count": null,
   "id": "d290b02b-9e70-421b-941d-b2f559e6f086",
   "metadata": {},
   "outputs": [],
   "source": [
    "MC_even_weight = MCSimulation(\n",
    "    portfolio_data = prices_df,\n",
    "    weights = [.60,.40],\n",
    "    num_simulation = 1000,\n",
    "    start_date = 2020-8-7,\n",
    "    end_date = 2020-8-7\n",
    "    \n",
    ")"
   ]
  }
 ],
 "metadata": {
  "kernelspec": {
   "display_name": "Python 3 (ipykernel)",
   "language": "python",
   "name": "python3"
  },
  "language_info": {
   "codemirror_mode": {
    "name": "ipython",
    "version": 3
   },
   "file_extension": ".py",
   "mimetype": "text/x-python",
   "name": "python",
   "nbconvert_exporter": "python",
   "pygments_lexer": "ipython3",
   "version": "3.8.8"
  }
 },
 "nbformat": 4,
 "nbformat_minor": 5
}
