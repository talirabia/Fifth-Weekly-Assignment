{
 "cells": [
  {
   "cell_type": "code",
   "execution_count": null,
   "id": "6606a18c-cdc1-4b4a-9a88-4e3470a03d5f",
   "metadata": {},
   "outputs": [],
   "source": [
    "alpaca_api_key = \"PKPRYKEQOZOUELCIGCGA\"\n",
    "alpaca_secret_key = \"jnsEQajTnNgnwhSE3TLGGweq9VdLNGaNPyvntfdc\""
   ]
  }
 ],
 "metadata": {
  "kernelspec": {
   "display_name": "dev",
   "language": "python",
   "name": "dev"
  },
  "language_info": {
   "codemirror_mode": {
    "name": "ipython",
    "version": 3
   },
   "file_extension": ".py",
   "mimetype": "text/x-python",
   "name": "python",
   "nbconvert_exporter": "python",
   "pygments_lexer": "ipython3",
   "version": "3.7.10"
  }
 },
 "nbformat": 4,
 "nbformat_minor": 5
}
